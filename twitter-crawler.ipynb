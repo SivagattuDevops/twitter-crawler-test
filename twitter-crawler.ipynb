{
 "cells": [
  {
   "cell_type": "code",
   "execution_count": 1,
   "metadata": {
    "ExecuteTime": {
     "end_time": "2022-10-25T05:32:34.061838Z",
     "start_time": "2022-10-25T05:32:29.380496Z"
    }
   },
   "outputs": [
    {
     "name": "stdout",
     "output_type": "stream",
     "text": [
      "Defaulting to user installation because normal site-packages is not writeable\n",
      "Requirement already satisfied: twython in /home/pgis20/towailam3/.local/lib/python3.7/site-packages (3.9.1)\n",
      "Requirement already satisfied: requests>=2.1.0 in /opt/anaconda/lib/python3.7/site-packages (from twython) (2.25.1)\n",
      "Requirement already satisfied: requests-oauthlib>=0.4.0 in /opt/anaconda/lib/python3.7/site-packages (from twython) (1.3.0)\n",
      "Requirement already satisfied: urllib3<1.27,>=1.21.1 in /opt/anaconda/lib/python3.7/site-packages (from requests>=2.1.0->twython) (1.26.4)\n",
      "Requirement already satisfied: certifi>=2017.4.17 in /home/pgis20/towailam3/.local/lib/python3.7/site-packages (from requests>=2.1.0->twython) (2022.6.15.1)\n",
      "Requirement already satisfied: chardet<5,>=3.0.2 in /opt/anaconda/lib/python3.7/site-packages (from requests>=2.1.0->twython) (4.0.0)\n",
      "Requirement already satisfied: idna<3,>=2.5 in /opt/anaconda/lib/python3.7/site-packages (from requests>=2.1.0->twython) (2.10)\n",
      "Requirement already satisfied: requests>=2.1.0 in /opt/anaconda/lib/python3.7/site-packages (from twython) (2.25.1)\n",
      "Requirement already satisfied: oauthlib>=3.0.0 in /opt/anaconda/lib/python3.7/site-packages (from requests-oauthlib>=0.4.0->twython) (3.1.0)\n",
      "Defaulting to user installation because normal site-packages is not writeable\n",
      "Requirement already satisfied: backoff in /home/pgis20/towailam3/.local/lib/python3.7/site-packages (2.2.1)\n"
     ]
    }
   ],
   "source": [
    "! pip install twython\n",
    "! pip install backoff"
   ]
  },
  {
   "cell_type": "code",
   "execution_count": 2,
   "metadata": {
    "ExecuteTime": {
     "end_time": "2022-10-25T05:32:34.734841Z",
     "start_time": "2022-10-25T05:32:34.067388Z"
    }
   },
   "outputs": [],
   "source": [
    "from twython import Twython, TwythonError, TwythonRateLimitError\n",
    "import pandas as pd\n",
    "from time import sleep\n",
    "from tqdm import tqdm\n",
    "from glob import glob\n",
    "import yaml\n",
    "import backoff\n",
    "import logging"
   ]
  },
  {
   "cell_type": "code",
   "execution_count": 3,
   "metadata": {
    "ExecuteTime": {
     "end_time": "2022-10-25T05:32:34.744299Z",
     "start_time": "2022-10-25T05:32:34.738897Z"
    }
   },
   "outputs": [],
   "source": [
    "with open('cred.yaml', 'r') as f:\n",
    "    twitter_cred = yaml.safe_load(f)"
   ]
  },
  {
   "cell_type": "code",
   "execution_count": 4,
   "metadata": {
    "ExecuteTime": {
     "end_time": "2022-10-25T05:32:35.147937Z",
     "start_time": "2022-10-25T05:32:34.746763Z"
    }
   },
   "outputs": [],
   "source": [
    "twitter_oauth = Twython(twitter_cred['APP_KEY'], twitter_cred['APP_SECRET'], oauth_version=2)\n",
    "ACCESS_TOKEN = twitter_oauth.obtain_access_token()\n",
    "\n",
    "t = Twython(twitter_cred['APP_KEY'], access_token=ACCESS_TOKEN)"
   ]
  },
  {
   "cell_type": "code",
   "execution_count": 5,
   "metadata": {
    "ExecuteTime": {
     "end_time": "2022-10-25T05:32:35.292975Z",
     "start_time": "2022-10-25T05:32:35.151731Z"
    }
   },
   "outputs": [
    {
     "data": {
      "text/plain": [
       "1584538807017574401"
      ]
     },
     "execution_count": 5,
     "metadata": {},
     "output_type": "execute_result"
    }
   ],
   "source": [
    "ids = [f.rstrip('.csv').lstrip('tweets/') for f in glob(\"tweets/*.csv\")]\n",
    "if ids:\n",
    "    max_id = min([int(i) for i in ids])\n",
    "else:\n",
    "    max_id = None\n",
    "max_id"
   ]
  },
  {
   "cell_type": "code",
   "execution_count": 6,
   "metadata": {
    "ExecuteTime": {
     "end_time": "2022-10-25T05:32:59.267177Z",
     "start_time": "2022-10-25T05:32:35.294807Z"
    }
   },
   "outputs": [
    {
     "data": {
      "text/plain": [
       "1063793"
      ]
     },
     "execution_count": 6,
     "metadata": {},
     "output_type": "execute_result"
    }
   ],
   "source": [
    "crawled_tweets = 0\n",
    "for f in glob(\"tweets/*.csv\"):\n",
    "    crawled_tweets += pd.read_csv(f).shape[0]\n",
    "crawled_tweets"
   ]
  },
  {
   "cell_type": "code",
   "execution_count": 7,
   "metadata": {
    "ExecuteTime": {
     "end_time": "2022-10-25T05:32:59.273625Z",
     "start_time": "2022-10-25T05:32:59.270112Z"
    }
   },
   "outputs": [],
   "source": [
    "max_tweets = 1_100_000"
   ]
  },
  {
   "cell_type": "code",
   "execution_count": 8,
   "metadata": {
    "ExecuteTime": {
     "end_time": "2022-10-25T05:32:59.287364Z",
     "start_time": "2022-10-25T05:32:59.276071Z"
    }
   },
   "outputs": [],
   "source": [
    "@backoff.on_exception(backoff.expo, (TwythonError, TwythonRateLimitError))\n",
    "def get_tweets(query, max_id = None, lang = 'en', count = 100):\n",
    "    result = t.search(q=query, lang = lang, count=count, \n",
    "                      result_type='recent', max_id=max_id)\n",
    "    return pd.DataFrame(result['statuses'])"
   ]
  },
  {
   "cell_type": "code",
   "execution_count": 9,
   "metadata": {
    "ExecuteTime": {
     "end_time": "2022-10-25T05:32:59.300921Z",
     "start_time": "2022-10-25T05:32:59.290512Z"
    }
   },
   "outputs": [],
   "source": [
    "logging.getLogger('backoff').addHandler(logging.StreamHandler())"
   ]
  },
  {
   "cell_type": "code",
   "execution_count": 10,
   "metadata": {
    "ExecuteTime": {
     "end_time": "2022-10-25T05:36:37.469341Z",
     "start_time": "2022-10-25T05:32:59.304591Z"
    },
    "scrolled": true
   },
   "outputs": [
    {
     "name": "stderr",
     "output_type": "stream",
     "text": [
      "  0%|          | 0/36207 [00:00<?, ?it/s]Backing off get_tweets(...) for 0.9s (twython.exceptions.TwythonRateLimitError: Twitter API returned a 429 (Too Many Requests), Rate limit exceeded)\n",
      "36298it [03:38, 166.40it/s]                           \n"
     ]
    }
   ],
   "source": [
    "with tqdm(total = max_tweets - crawled_tweets) as pbar:\n",
    "    while True: \n",
    "        tweets = get_tweets('china', max_id=max_id)\n",
    "        tweets = tweets[['id', 'created_at', 'text']]\n",
    "        tweets.to_csv('tweets/%s.csv' % tweets['id'].max(), index=False)\n",
    "\n",
    "        crawled_tweets += len(tweets)\n",
    "        pbar.update(len(tweets))\n",
    "\n",
    "        if crawled_tweets >= max_tweets: \n",
    "            break\n",
    "\n",
    "        max_id = tweets['id'].min()"
   ]
  },
  {
   "cell_type": "code",
   "execution_count": 11,
   "metadata": {
    "ExecuteTime": {
     "end_time": "2022-10-25T05:36:58.347023Z",
     "start_time": "2022-10-25T05:36:37.470998Z"
    }
   },
   "outputs": [
    {
     "data": {
      "text/plain": [
       "1087493"
      ]
     },
     "execution_count": 11,
     "metadata": {},
     "output_type": "execute_result"
    }
   ],
   "source": [
    "sum([pd.read_csv(f).shape[0] for f in glob(\"tweets/*.csv\")])"
   ]
  }
 ],
 "metadata": {
  "kernelspec": {
   "display_name": "Python 3",
   "language": "python",
   "name": "python3"
  },
  "language_info": {
   "codemirror_mode": {
    "name": "ipython",
    "version": 3
   },
   "file_extension": ".py",
   "mimetype": "text/x-python",
   "name": "python",
   "nbconvert_exporter": "python",
   "pygments_lexer": "ipython3",
   "version": "3.7.9"
  },
  "toc": {
   "base_numbering": 1,
   "nav_menu": {},
   "number_sections": true,
   "sideBar": true,
   "skip_h1_title": false,
   "title_cell": "Table of Contents",
   "title_sidebar": "Contents",
   "toc_cell": false,
   "toc_position": {},
   "toc_section_display": true,
   "toc_window_display": false
  }
 },
 "nbformat": 4,
 "nbformat_minor": 2
}
