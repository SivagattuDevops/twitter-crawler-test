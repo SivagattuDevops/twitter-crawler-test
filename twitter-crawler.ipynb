{
 "cells": [
  {
   "cell_type": "code",
   "execution_count": 1,
   "metadata": {
    "ExecuteTime": {
     "end_time": "2022-11-06T01:36:08.017900Z",
     "start_time": "2022-11-06T01:36:03.583204Z"
    }
   },
   "outputs": [
    {
     "name": "stdout",
     "output_type": "stream",
     "text": [
      "Defaulting to user installation because normal site-packages is not writeable\n",
      "Requirement already satisfied: twython in /home/pgis20/towailam3/.local/lib/python3.7/site-packages (3.9.1)\n",
      "Requirement already satisfied: requests-oauthlib>=0.4.0 in /opt/anaconda/lib/python3.7/site-packages (from twython) (1.3.0)\n",
      "Requirement already satisfied: requests>=2.1.0 in /opt/anaconda/lib/python3.7/site-packages (from twython) (2.25.1)\n",
      "Requirement already satisfied: chardet<5,>=3.0.2 in /opt/anaconda/lib/python3.7/site-packages (from requests>=2.1.0->twython) (4.0.0)\n",
      "Requirement already satisfied: urllib3<1.27,>=1.21.1 in /opt/anaconda/lib/python3.7/site-packages (from requests>=2.1.0->twython) (1.26.4)\n",
      "Requirement already satisfied: certifi>=2017.4.17 in /home/pgis20/towailam3/.local/lib/python3.7/site-packages (from requests>=2.1.0->twython) (2022.6.15.1)\n",
      "Requirement already satisfied: idna<3,>=2.5 in /opt/anaconda/lib/python3.7/site-packages (from requests>=2.1.0->twython) (2.10)\n",
      "Requirement already satisfied: requests>=2.1.0 in /opt/anaconda/lib/python3.7/site-packages (from twython) (2.25.1)\n",
      "Requirement already satisfied: oauthlib>=3.0.0 in /opt/anaconda/lib/python3.7/site-packages (from requests-oauthlib>=0.4.0->twython) (3.1.0)\n",
      "Defaulting to user installation because normal site-packages is not writeable\n",
      "Requirement already satisfied: backoff in /home/pgis20/towailam3/.local/lib/python3.7/site-packages (2.2.1)\n"
     ]
    }
   ],
   "source": [
    "! pip install twython\n",
    "! pip install backoff"
   ]
  },
  {
   "cell_type": "code",
   "execution_count": 2,
   "metadata": {
    "ExecuteTime": {
     "end_time": "2022-11-06T01:36:08.625475Z",
     "start_time": "2022-11-06T01:36:08.022769Z"
    }
   },
   "outputs": [],
   "source": [
    "from twython import Twython, TwythonError, TwythonRateLimitError\n",
    "import pandas as pd\n",
    "from time import sleep\n",
    "from tqdm import tqdm\n",
    "from glob import glob\n",
    "import yaml\n",
    "import backoff\n",
    "import logging"
   ]
  },
  {
   "cell_type": "code",
   "execution_count": 3,
   "metadata": {
    "ExecuteTime": {
     "end_time": "2022-11-06T01:36:08.635231Z",
     "start_time": "2022-11-06T01:36:08.629316Z"
    }
   },
   "outputs": [],
   "source": [
    "with open('cred.yaml', 'r') as f:\n",
    "    twitter_cred = yaml.safe_load(f)"
   ]
  },
  {
   "cell_type": "code",
   "execution_count": 4,
   "metadata": {
    "ExecuteTime": {
     "end_time": "2022-11-06T01:36:09.075400Z",
     "start_time": "2022-11-06T01:36:08.638412Z"
    }
   },
   "outputs": [],
   "source": [
    "twitter_oauth = Twython(twitter_cred['APP_KEY'], twitter_cred['APP_SECRET'], oauth_version=2)\n",
    "ACCESS_TOKEN = twitter_oauth.obtain_access_token()\n",
    "\n",
    "t = Twython(twitter_cred['APP_KEY'], access_token=ACCESS_TOKEN)"
   ]
  },
  {
   "cell_type": "code",
   "execution_count": 5,
   "metadata": {
    "ExecuteTime": {
     "end_time": "2022-11-06T01:36:09.190979Z",
     "start_time": "2022-11-06T01:36:09.142652Z"
    }
   },
   "outputs": [
    {
     "data": {
      "text/plain": [
       "1588846925738315776"
      ]
     },
     "execution_count": 5,
     "metadata": {},
     "output_type": "execute_result"
    }
   ],
   "source": [
    "ids = [f.rstrip('.csv').lstrip('tweets/') for f in glob(\"tweets/*.csv\")]\n",
    "if ids:\n",
    "    max_id = min([int(i) for i in ids])\n",
    "else:\n",
    "    max_id = None\n",
    "max_id"
   ]
  },
  {
   "cell_type": "code",
   "execution_count": 6,
   "metadata": {
    "ExecuteTime": {
     "end_time": "2022-11-06T01:36:30.911262Z",
     "start_time": "2022-11-06T01:36:09.193360Z"
    }
   },
   "outputs": [
    {
     "data": {
      "text/plain": [
       "958589"
      ]
     },
     "execution_count": 6,
     "metadata": {},
     "output_type": "execute_result"
    }
   ],
   "source": [
    "crawled_tweets = 0\n",
    "for f in glob(\"tweets/*.csv\"):\n",
    "    crawled_tweets += pd.read_csv(f).shape[0]\n",
    "crawled_tweets"
   ]
  },
  {
   "cell_type": "code",
   "execution_count": 7,
   "metadata": {
    "ExecuteTime": {
     "end_time": "2022-11-06T01:36:30.918134Z",
     "start_time": "2022-11-06T01:36:30.914426Z"
    }
   },
   "outputs": [],
   "source": [
    "max_tweets = 1_100_000"
   ]
  },
  {
   "cell_type": "code",
   "execution_count": 8,
   "metadata": {
    "ExecuteTime": {
     "end_time": "2022-11-06T01:36:30.932829Z",
     "start_time": "2022-11-06T01:36:30.920147Z"
    }
   },
   "outputs": [],
   "source": [
    "@backoff.on_exception(backoff.expo, (TwythonError, TwythonRateLimitError))\n",
    "def get_tweets(query, max_id = None, lang = 'en', count = 100, tweet_mode='compat'):\n",
    "    result = t.search(q=query, lang = lang, count=count, \n",
    "                      result_type='recent', max_id=max_id, tweet_mode=tweet_mode)\n",
    "    return pd.DataFrame(result['statuses'])"
   ]
  },
  {
   "cell_type": "code",
   "execution_count": 9,
   "metadata": {
    "ExecuteTime": {
     "end_time": "2022-11-06T01:36:30.946254Z",
     "start_time": "2022-11-06T01:36:30.935541Z"
    }
   },
   "outputs": [],
   "source": [
    "logging.getLogger('backoff').addHandler(logging.StreamHandler())"
   ]
  },
  {
   "cell_type": "code",
   "execution_count": 10,
   "metadata": {
    "ExecuteTime": {
     "end_time": "2022-11-06T02:27:26.137677Z",
     "start_time": "2022-11-06T01:36:30.950068Z"
    },
    "hidePrompt": true,
    "scrolled": true
   },
   "outputs": [
    {
     "name": "stderr",
     "output_type": "stream",
     "text": [
      " 32%|███▏      | 45100/141411 [04:10<08:48, 182.16it/s]Backing off get_tweets(...) for 0.9s (twython.exceptions.TwythonRateLimitError: Twitter API returned a 429 (Too Many Requests), Rate limit exceeded)\n",
      "Backing off get_tweets(...) for 2.0s (twython.exceptions.TwythonRateLimitError: Twitter API returned a 429 (Too Many Requests), Rate limit exceeded)\n",
      "Backing off get_tweets(...) for 1.0s (twython.exceptions.TwythonRateLimitError: Twitter API returned a 429 (Too Many Requests), Rate limit exceeded)\n",
      "Backing off get_tweets(...) for 7.3s (twython.exceptions.TwythonRateLimitError: Twitter API returned a 429 (Too Many Requests), Rate limit exceeded)\n",
      "Backing off get_tweets(...) for 5.7s (twython.exceptions.TwythonRateLimitError: Twitter API returned a 429 (Too Many Requests), Rate limit exceeded)\n",
      "Backing off get_tweets(...) for 26.1s (twython.exceptions.TwythonRateLimitError: Twitter API returned a 429 (Too Many Requests), Rate limit exceeded)\n",
      " 32%|███▏      | 45100/141411 [04:30<08:48, 182.16it/s]Backing off get_tweets(...) for 4.8s (twython.exceptions.TwythonRateLimitError: Twitter API returned a 429 (Too Many Requests), Rate limit exceeded)\n",
      "Backing off get_tweets(...) for 41.4s (twython.exceptions.TwythonRateLimitError: Twitter API returned a 429 (Too Many Requests), Rate limit exceeded)\n",
      "Backing off get_tweets(...) for 132.1s (twython.exceptions.TwythonRateLimitError: Twitter API returned a 429 (Too Many Requests), Rate limit exceeded)\n",
      "Backing off get_tweets(...) for 87.2s (twython.exceptions.TwythonRateLimitError: Twitter API returned a 429 (Too Many Requests), Rate limit exceeded)\n",
      "Backing off get_tweets(...) for 590.7s (twython.exceptions.TwythonRateLimitError: Twitter API returned a 429 (Too Many Requests), Rate limit exceeded)\n",
      " 64%|██████▎   | 90060/141411 [23:28<04:47, 178.57it/s]  Backing off get_tweets(...) for 0.1s (twython.exceptions.TwythonRateLimitError: Twitter API returned a 429 (Too Many Requests), Rate limit exceeded)\n",
      "Backing off get_tweets(...) for 1.6s (twython.exceptions.TwythonRateLimitError: Twitter API returned a 429 (Too Many Requests), Rate limit exceeded)\n",
      "Backing off get_tweets(...) for 3.4s (twython.exceptions.TwythonRateLimitError: Twitter API returned a 429 (Too Many Requests), Rate limit exceeded)\n",
      "Backing off get_tweets(...) for 5.3s (twython.exceptions.TwythonRateLimitError: Twitter API returned a 429 (Too Many Requests), Rate limit exceeded)\n",
      "Backing off get_tweets(...) for 13.1s (twython.exceptions.TwythonRateLimitError: Twitter API returned a 429 (Too Many Requests), Rate limit exceeded)\n",
      " 64%|██████▎   | 90060/141411 [23:40<04:47, 178.57it/s]Backing off get_tweets(...) for 31.9s (twython.exceptions.TwythonRateLimitError: Twitter API returned a 429 (Too Many Requests), Rate limit exceeded)\n",
      "Backing off get_tweets(...) for 10.0s (twython.exceptions.TwythonRateLimitError: Twitter API returned a 429 (Too Many Requests), Rate limit exceeded)\n",
      "Backing off get_tweets(...) for 67.2s (twython.exceptions.TwythonRateLimitError: Twitter API returned a 429 (Too Many Requests), Rate limit exceeded)\n",
      "Backing off get_tweets(...) for 85.8s (twython.exceptions.TwythonRateLimitError: Twitter API returned a 429 (Too Many Requests), Rate limit exceeded)\n",
      "Backing off get_tweets(...) for 442.8s (twython.exceptions.TwythonRateLimitError: Twitter API returned a 429 (Too Many Requests), Rate limit exceeded)\n",
      " 76%|███████▌  | 107360/141411 [36:10<03:17, 172.23it/s] Backing off get_tweets(...) for 0.7s (twython.exceptions.TwythonError: (\"Connection broken: ConnectionResetError(104, 'Connection reset by peer')\", ConnectionResetError(104, 'Connection reset by peer')))\n",
      " 95%|█████████▌| 134960/141411 [38:50<00:37, 173.57it/s]Backing off get_tweets(...) for 0.5s (twython.exceptions.TwythonRateLimitError: Twitter API returned a 429 (Too Many Requests), Rate limit exceeded)\n",
      "Backing off get_tweets(...) for 0.8s (twython.exceptions.TwythonRateLimitError: Twitter API returned a 429 (Too Many Requests), Rate limit exceeded)\n",
      "Backing off get_tweets(...) for 1.8s (twython.exceptions.TwythonRateLimitError: Twitter API returned a 429 (Too Many Requests), Rate limit exceeded)\n",
      "Backing off get_tweets(...) for 1.8s (twython.exceptions.TwythonRateLimitError: Twitter API returned a 429 (Too Many Requests), Rate limit exceeded)\n",
      "Backing off get_tweets(...) for 0.7s (twython.exceptions.TwythonRateLimitError: Twitter API returned a 429 (Too Many Requests), Rate limit exceeded)\n",
      "Backing off get_tweets(...) for 3.9s (twython.exceptions.TwythonRateLimitError: Twitter API returned a 429 (Too Many Requests), Rate limit exceeded)\n",
      "Backing off get_tweets(...) for 45.8s (twython.exceptions.TwythonRateLimitError: Twitter API returned a 429 (Too Many Requests), Rate limit exceeded)\n",
      " 95%|█████████▌| 134960/141411 [39:10<00:37, 173.57it/s]Backing off get_tweets(...) for 44.1s (twython.exceptions.TwythonRateLimitError: Twitter API returned a 429 (Too Many Requests), Rate limit exceeded)\n",
      "Backing off get_tweets(...) for 20.6s (twython.exceptions.TwythonRateLimitError: Twitter API returned a 429 (Too Many Requests), Rate limit exceeded)\n",
      "Backing off get_tweets(...) for 300.8s (twython.exceptions.TwythonRateLimitError: Twitter API returned a 429 (Too Many Requests), Rate limit exceeded)\n",
      "Backing off get_tweets(...) for 263.9s (twython.exceptions.TwythonError: ('Connection aborted.', ConnectionResetError(104, 'Connection reset by peer')))\n",
      "141460it [50:55, 46.30it/s]                              \n"
     ]
    }
   ],
   "source": [
    "with tqdm(total = max_tweets - crawled_tweets) as pbar:\n",
    "    while True: \n",
    "        tweets = get_tweets('china', max_id=max_id, tweet_mode='extended')\n",
    "\n",
    "        tweets = tweets[['id', 'created_at', 'full_text']]\n",
    "        tweets.to_csv('tweets/%s.csv' % tweets['id'].max(), index=False)\n",
    "\n",
    "        crawled_tweets += len(tweets)\n",
    "        pbar.update(len(tweets))\n",
    "\n",
    "        if crawled_tweets >= max_tweets: \n",
    "            break\n",
    "\n",
    "        max_id = tweets['id'].min()"
   ]
  },
  {
   "cell_type": "code",
   "execution_count": 11,
   "metadata": {
    "ExecuteTime": {
     "end_time": "2022-11-06T02:27:50.337757Z",
     "start_time": "2022-11-06T02:27:26.139948Z"
    }
   },
   "outputs": [],
   "source": [
    "csv_files = [pd.read_csv(f) for f in glob(\"tweets/*.csv\")]"
   ]
  },
  {
   "cell_type": "code",
   "execution_count": 12,
   "metadata": {
    "ExecuteTime": {
     "end_time": "2022-11-06T02:27:50.401466Z",
     "start_time": "2022-11-06T02:27:50.340368Z"
    }
   },
   "outputs": [
    {
     "data": {
      "text/plain": [
       "1040264"
      ]
     },
     "execution_count": 12,
     "metadata": {},
     "output_type": "execute_result"
    }
   ],
   "source": [
    "sum([c.shape[0] for c in csv_files])"
   ]
  }
 ],
 "metadata": {
  "kernelspec": {
   "display_name": "Python 3",
   "language": "python",
   "name": "python3"
  },
  "language_info": {
   "codemirror_mode": {
    "name": "ipython",
    "version": 3
   },
   "file_extension": ".py",
   "mimetype": "text/x-python",
   "name": "python",
   "nbconvert_exporter": "python",
   "pygments_lexer": "ipython3",
   "version": "3.7.9"
  },
  "toc": {
   "base_numbering": 1,
   "nav_menu": {},
   "number_sections": true,
   "sideBar": true,
   "skip_h1_title": false,
   "title_cell": "Table of Contents",
   "title_sidebar": "Contents",
   "toc_cell": false,
   "toc_position": {},
   "toc_section_display": true,
   "toc_window_display": false
  }
 },
 "nbformat": 4,
 "nbformat_minor": 2
}
