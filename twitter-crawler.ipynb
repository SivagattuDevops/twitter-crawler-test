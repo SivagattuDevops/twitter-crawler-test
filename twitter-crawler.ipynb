{
 "cells": [
  {
   "cell_type": "code",
   "execution_count": null,
   "metadata": {
    "ExecuteTime": {
     "end_time": "2022-11-06T05:31:53.966219Z",
     "start_time": "2022-11-06T05:31:49.347491Z"
    }
   },
   "outputs": [],
   "source": [
    "! pip install twython\n",
    "! pip install backoff"
   ]
  },
  {
   "cell_type": "code",
   "execution_count": null,
   "metadata": {
    "ExecuteTime": {
     "end_time": "2022-11-06T05:31:54.634409Z",
     "start_time": "2022-11-06T05:31:53.971450Z"
    }
   },
   "outputs": [],
   "source": [
    "from twython import Twython, TwythonError, TwythonRateLimitError\n",
    "import pandas as pd\n",
    "from time import sleep\n",
    "from tqdm import tqdm\n",
    "from glob import glob\n",
    "import yaml\n",
    "import backoff\n",
    "import logging"
   ]
  },
  {
   "cell_type": "code",
   "execution_count": null,
   "metadata": {},
   "outputs": [],
   "source": [
    "# log = logging.getLogger('urllib3')\n",
    "# log.setLevel(logging.DEBUG)\n",
    "\n",
    "# from http.client import HTTPConnection\n",
    "# HTTPConnection.debuglevel = 1"
   ]
  },
  {
   "cell_type": "code",
   "execution_count": null,
   "metadata": {},
   "outputs": [],
   "source": [
    "logging.getLogger('backoff').addHandler(logging.StreamHandler())"
   ]
  },
  {
   "cell_type": "code",
   "execution_count": null,
   "metadata": {
    "ExecuteTime": {
     "end_time": "2022-11-06T05:31:55.221353Z",
     "start_time": "2022-11-06T05:31:54.643567Z"
    }
   },
   "outputs": [],
   "source": [
    "with open('cred.yaml', 'r') as f:\n",
    "    twitter_cred = yaml.safe_load(f)\n",
    "    \n",
    "twitter_oauth = Twython(twitter_cred['APP_KEY'], twitter_cred['APP_SECRET'], oauth_version=2)\n",
    "ACCESS_TOKEN = twitter_oauth.obtain_access_token()\n",
    "\n",
    "t = Twython(twitter_cred['APP_KEY'], access_token=ACCESS_TOKEN)"
   ]
  },
  {
   "cell_type": "code",
   "execution_count": null,
   "metadata": {},
   "outputs": [],
   "source": [
    "@backoff.on_exception(backoff.expo, (TwythonError, TwythonRateLimitError))\n",
    "def get_tweets(query, max_id = None, lang = 'en', count = 100, tweet_mode='compat'):\n",
    "    result = t.search(q=query, lang = lang, count=count, \n",
    "                      result_type='recent', max_id=max_id, tweet_mode=tweet_mode)\n",
    "\n",
    "    return pd.DataFrame(result['statuses'])"
   ]
  },
  {
   "cell_type": "code",
   "execution_count": null,
   "metadata": {
    "ExecuteTime": {
     "end_time": "2022-11-06T05:31:55.232029Z",
     "start_time": "2022-11-06T05:31:55.224959Z"
    }
   },
   "outputs": [],
   "source": [
    "max_ids = [f.rstrip('.csv').lstrip('tweets/') for f in glob(\"tweets/*.csv\")]\n",
    "if max_ids:\n",
    "    max_id = min([int(i) for i in max_ids])\n",
    "else:\n",
    "    max_id = None\n",
    "\n",
    "crawled_tweets = 0\n",
    "for f in glob(\"tweets/*.csv\"):\n",
    "    crawled_tweets += pd.read_csv(f, engine='python').shape[0]\n",
    "\n",
    "max_tweets = 1_100_000"
   ]
  },
  {
   "cell_type": "code",
   "execution_count": null,
   "metadata": {
    "ExecuteTime": {
     "start_time": "2022-11-06T05:31:49.275Z"
    },
    "hidePrompt": true,
    "scrolled": false
   },
   "outputs": [],
   "source": [
    "print(\"max_id: %s, crawled_tweets: %s, max_tweets: %s\" % (max_id, crawled_tweets, max_tweets))\n",
    "\n",
    "with tqdm(total = max_tweets - crawled_tweets) as pbar:\n",
    "    while True: \n",
    "        tweets = get_tweets('china -filter:retweets', max_id=max_id, tweet_mode='extended')\n",
    "        tweets = tweets[['id', 'created_at', 'full_text']]\n",
    "        tweets.to_csv('tweets/%s.csv' % tweets['id'].max(), index=False)\n",
    "\n",
    "        crawled_tweets += len(tweets)\n",
    "        pbar.update(len(tweets))\n",
    "\n",
    "        if crawled_tweets >= max_tweets: \n",
    "            break\n",
    "\n",
    "#         max_id = tweets['id'].min()\n",
    "        max_id = str(tweets['id'].min() - 1)"
   ]
  },
  {
   "cell_type": "code",
   "execution_count": null,
   "metadata": {
    "ExecuteTime": {
     "start_time": "2022-11-06T05:31:49.277Z"
    }
   },
   "outputs": [],
   "source": [
    "csv_files = [pd.read_csv(f, engine='python') for f in glob(\"tweets/*.csv\")]"
   ]
  },
  {
   "cell_type": "code",
   "execution_count": null,
   "metadata": {
    "ExecuteTime": {
     "start_time": "2022-11-06T05:31:49.279Z"
    }
   },
   "outputs": [],
   "source": [
    "sum([c.shape[0] for c in csv_files])"
   ]
  },
  {
   "cell_type": "code",
   "execution_count": 26,
   "metadata": {},
   "outputs": [
    {
     "name": "stdout",
     "output_type": "stream",
     "text": [
      "duplicate ids: 0, unique ids: 36452\n"
     ]
    }
   ],
   "source": [
    "ids = [set(pd.read_csv(f, engine='python')['id']) for f in glob(\"tweets/*.csv\")]\n",
    "print(\"duplicate ids: %s, unique ids: %s\" % (len(set.intersection(*ids)), len(set.union(*ids))))"
   ]
  }
 ],
 "metadata": {
  "kernelspec": {
   "display_name": "Python 3",
   "language": "python",
   "name": "python3"
  },
  "language_info": {
   "codemirror_mode": {
    "name": "ipython",
    "version": 3
   },
   "file_extension": ".py",
   "mimetype": "text/x-python",
   "name": "python",
   "nbconvert_exporter": "python",
   "pygments_lexer": "ipython3",
   "version": "3.6.9"
  },
  "toc": {
   "base_numbering": 1,
   "nav_menu": {},
   "number_sections": true,
   "sideBar": true,
   "skip_h1_title": false,
   "title_cell": "Table of Contents",
   "title_sidebar": "Contents",
   "toc_cell": false,
   "toc_position": {},
   "toc_section_display": true,
   "toc_window_display": false
  }
 },
 "nbformat": 4,
 "nbformat_minor": 2
}
