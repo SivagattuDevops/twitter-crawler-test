{
 "cells": [
  {
   "cell_type": "code",
   "execution_count": 1,
   "metadata": {
    "ExecuteTime": {
     "end_time": "2022-11-05T11:06:14.756411Z",
     "start_time": "2022-11-05T11:06:10.206073Z"
    }
   },
   "outputs": [
    {
     "name": "stdout",
     "output_type": "stream",
     "text": [
      "Defaulting to user installation because normal site-packages is not writeable\n",
      "Requirement already satisfied: twython in /home/pgis20/towailam3/.local/lib/python3.7/site-packages (3.9.1)\n",
      "Requirement already satisfied: requests-oauthlib>=0.4.0 in /opt/anaconda/lib/python3.7/site-packages (from twython) (1.3.0)\n",
      "Requirement already satisfied: requests>=2.1.0 in /opt/anaconda/lib/python3.7/site-packages (from twython) (2.25.1)\n",
      "Requirement already satisfied: urllib3<1.27,>=1.21.1 in /opt/anaconda/lib/python3.7/site-packages (from requests>=2.1.0->twython) (1.26.4)\n",
      "Requirement already satisfied: idna<3,>=2.5 in /opt/anaconda/lib/python3.7/site-packages (from requests>=2.1.0->twython) (2.10)\n",
      "Requirement already satisfied: certifi>=2017.4.17 in /home/pgis20/towailam3/.local/lib/python3.7/site-packages (from requests>=2.1.0->twython) (2022.6.15.1)\n",
      "Requirement already satisfied: chardet<5,>=3.0.2 in /opt/anaconda/lib/python3.7/site-packages (from requests>=2.1.0->twython) (4.0.0)\n",
      "Requirement already satisfied: requests>=2.1.0 in /opt/anaconda/lib/python3.7/site-packages (from twython) (2.25.1)\n",
      "Requirement already satisfied: oauthlib>=3.0.0 in /opt/anaconda/lib/python3.7/site-packages (from requests-oauthlib>=0.4.0->twython) (3.1.0)\n",
      "Defaulting to user installation because normal site-packages is not writeable\n",
      "Requirement already satisfied: backoff in /home/pgis20/towailam3/.local/lib/python3.7/site-packages (2.2.1)\n"
     ]
    }
   ],
   "source": [
    "! pip install twython\n",
    "! pip install backoff"
   ]
  },
  {
   "cell_type": "code",
   "execution_count": 2,
   "metadata": {
    "ExecuteTime": {
     "end_time": "2022-11-05T11:06:15.436974Z",
     "start_time": "2022-11-05T11:06:14.762671Z"
    }
   },
   "outputs": [],
   "source": [
    "from twython import Twython, TwythonError, TwythonRateLimitError\n",
    "import pandas as pd\n",
    "from time import sleep\n",
    "from tqdm import tqdm\n",
    "from glob import glob\n",
    "import yaml\n",
    "import backoff\n",
    "import logging"
   ]
  },
  {
   "cell_type": "code",
   "execution_count": 3,
   "metadata": {
    "ExecuteTime": {
     "end_time": "2022-11-05T11:06:15.446166Z",
     "start_time": "2022-11-05T11:06:15.440757Z"
    }
   },
   "outputs": [],
   "source": [
    "with open('cred.yaml', 'r') as f:\n",
    "    twitter_cred = yaml.safe_load(f)"
   ]
  },
  {
   "cell_type": "code",
   "execution_count": 4,
   "metadata": {
    "ExecuteTime": {
     "end_time": "2022-11-05T11:06:15.763438Z",
     "start_time": "2022-11-05T11:06:15.448149Z"
    }
   },
   "outputs": [],
   "source": [
    "twitter_oauth = Twython(twitter_cred['APP_KEY'], twitter_cred['APP_SECRET'], oauth_version=2)\n",
    "ACCESS_TOKEN = twitter_oauth.obtain_access_token()\n",
    "\n",
    "t = Twython(twitter_cred['APP_KEY'], access_token=ACCESS_TOKEN)"
   ]
  },
  {
   "cell_type": "code",
   "execution_count": 5,
   "metadata": {
    "ExecuteTime": {
     "end_time": "2022-11-05T11:06:15.862328Z",
     "start_time": "2022-11-05T11:06:15.766654Z"
    }
   },
   "outputs": [
    {
     "data": {
      "text/plain": [
       "1588846925738315776"
      ]
     },
     "execution_count": 5,
     "metadata": {},
     "output_type": "execute_result"
    }
   ],
   "source": [
    "ids = [f.rstrip('.csv').lstrip('tweets/') for f in glob(\"tweets/*.csv\")]\n",
    "if ids:\n",
    "    max_id = min([int(i) for i in ids])\n",
    "else:\n",
    "    max_id = None\n",
    "max_id"
   ]
  },
  {
   "cell_type": "code",
   "execution_count": 6,
   "metadata": {
    "ExecuteTime": {
     "end_time": "2022-11-05T11:06:16.578146Z",
     "start_time": "2022-11-05T11:06:15.864425Z"
    }
   },
   "outputs": [
    {
     "data": {
      "text/plain": [
       "33046"
      ]
     },
     "execution_count": 6,
     "metadata": {},
     "output_type": "execute_result"
    }
   ],
   "source": [
    "crawled_tweets = 0\n",
    "for f in glob(\"tweets/*.csv\"):\n",
    "    crawled_tweets += pd.read_csv(f).shape[0]\n",
    "crawled_tweets"
   ]
  },
  {
   "cell_type": "code",
   "execution_count": 7,
   "metadata": {
    "ExecuteTime": {
     "end_time": "2022-11-05T11:06:16.583516Z",
     "start_time": "2022-11-05T11:06:16.580455Z"
    }
   },
   "outputs": [],
   "source": [
    "max_tweets = 1_100_000"
   ]
  },
  {
   "cell_type": "code",
   "execution_count": 8,
   "metadata": {
    "ExecuteTime": {
     "end_time": "2022-11-05T11:06:16.595903Z",
     "start_time": "2022-11-05T11:06:16.585189Z"
    }
   },
   "outputs": [],
   "source": [
    "@backoff.on_exception(backoff.expo, (TwythonError, TwythonRateLimitError))\n",
    "def get_tweets(query, max_id = None, lang = 'en', count = 100, tweet_mode='compat'):\n",
    "    result = t.search(q=query, lang = lang, count=count, \n",
    "                      result_type='recent', max_id=max_id, tweet_mode=tweet_mode)\n",
    "    return pd.DataFrame(result['statuses'])"
   ]
  },
  {
   "cell_type": "code",
   "execution_count": 9,
   "metadata": {
    "ExecuteTime": {
     "end_time": "2022-11-05T11:06:16.608614Z",
     "start_time": "2022-11-05T11:06:16.598578Z"
    }
   },
   "outputs": [],
   "source": [
    "logging.getLogger('backoff').addHandler(logging.StreamHandler())"
   ]
  },
  {
   "cell_type": "code",
   "execution_count": null,
   "metadata": {
    "ExecuteTime": {
     "start_time": "2022-11-05T11:06:10.191Z"
    },
    "scrolled": true
   },
   "outputs": [
    {
     "name": "stderr",
     "output_type": "stream",
     "text": [
      "  0%|          | 100/1066954 [00:00<2:09:33, 137.25it/s]Backing off get_tweets(...) for 0.5s (twython.exceptions.TwythonRateLimitError: Twitter API returned a 429 (Too Many Requests), Rate limit exceeded)\n",
      "Backing off get_tweets(...) for 0.2s (twython.exceptions.TwythonRateLimitError: Twitter API returned a 429 (Too Many Requests), Rate limit exceeded)\n",
      "Backing off get_tweets(...) for 1.1s (twython.exceptions.TwythonRateLimitError: Twitter API returned a 429 (Too Many Requests), Rate limit exceeded)\n",
      "Backing off get_tweets(...) for 6.5s (twython.exceptions.TwythonRateLimitError: Twitter API returned a 429 (Too Many Requests), Rate limit exceeded)\n",
      "Backing off get_tweets(...) for 15.5s (twython.exceptions.TwythonRateLimitError: Twitter API returned a 429 (Too Many Requests), Rate limit exceeded)\n",
      "  0%|          | 100/1066954 [00:19<2:09:33, 137.25it/s]Backing off get_tweets(...) for 19.7s (twython.exceptions.TwythonRateLimitError: Twitter API returned a 429 (Too Many Requests), Rate limit exceeded)\n",
      "Backing off get_tweets(...) for 10.3s (twython.exceptions.TwythonRateLimitError: Twitter API returned a 429 (Too Many Requests), Rate limit exceeded)\n",
      "Backing off get_tweets(...) for 27.5s (twython.exceptions.TwythonRateLimitError: Twitter API returned a 429 (Too Many Requests), Rate limit exceeded)\n",
      "Backing off get_tweets(...) for 80.6s (twython.exceptions.TwythonRateLimitError: Twitter API returned a 429 (Too Many Requests), Rate limit exceeded)\n",
      "  4%|▍         | 45057/1066954 [07:17<1:44:17, 163.31it/s]Backing off get_tweets(...) for 0.9s (twython.exceptions.TwythonRateLimitError: Twitter API returned a 429 (Too Many Requests), Rate limit exceeded)\n",
      "Backing off get_tweets(...) for 0.4s (twython.exceptions.TwythonRateLimitError: Twitter API returned a 429 (Too Many Requests), Rate limit exceeded)\n",
      "Backing off get_tweets(...) for 1.6s (twython.exceptions.TwythonRateLimitError: Twitter API returned a 429 (Too Many Requests), Rate limit exceeded)\n",
      "Backing off get_tweets(...) for 7.3s (twython.exceptions.TwythonRateLimitError: Twitter API returned a 429 (Too Many Requests), Rate limit exceeded)\n",
      "Backing off get_tweets(...) for 10.3s (twython.exceptions.TwythonRateLimitError: Twitter API returned a 429 (Too Many Requests), Rate limit exceeded)\n",
      "  4%|▍         | 45057/1066954 [07:30<1:44:17, 163.31it/s]Backing off get_tweets(...) for 15.2s (twython.exceptions.TwythonRateLimitError: Twitter API returned a 429 (Too Many Requests), Rate limit exceeded)\n",
      "Backing off get_tweets(...) for 10.5s (twython.exceptions.TwythonRateLimitError: Twitter API returned a 429 (Too Many Requests), Rate limit exceeded)\n",
      "Backing off get_tweets(...) for 48.6s (twython.exceptions.TwythonRateLimitError: Twitter API returned a 429 (Too Many Requests), Rate limit exceeded)\n",
      "Backing off get_tweets(...) for 252.4s (twython.exceptions.TwythonRateLimitError: Twitter API returned a 429 (Too Many Requests), Rate limit exceeded)\n",
      "Backing off get_tweets(...) for 411.1s (twython.exceptions.TwythonRateLimitError: Twitter API returned a 429 (Too Many Requests), Rate limit exceeded)\n",
      "  8%|▊         | 90057/1066954 [24:36<1:44:04, 156.44it/s] Backing off get_tweets(...) for 0.8s (twython.exceptions.TwythonRateLimitError: Twitter API returned a 429 (Too Many Requests), Rate limit exceeded)\n",
      "Backing off get_tweets(...) for 0.8s (twython.exceptions.TwythonRateLimitError: Twitter API returned a 429 (Too Many Requests), Rate limit exceeded)\n",
      "Backing off get_tweets(...) for 1.8s (twython.exceptions.TwythonRateLimitError: Twitter API returned a 429 (Too Many Requests), Rate limit exceeded)\n",
      "Backing off get_tweets(...) for 4.8s (twython.exceptions.TwythonRateLimitError: Twitter API returned a 429 (Too Many Requests), Rate limit exceeded)\n",
      "Backing off get_tweets(...) for 13.7s (twython.exceptions.TwythonRateLimitError: Twitter API returned a 429 (Too Many Requests), Rate limit exceeded)\n",
      "  8%|▊         | 90057/1066954 [24:50<1:44:04, 156.44it/s]Backing off get_tweets(...) for 2.8s (twython.exceptions.TwythonRateLimitError: Twitter API returned a 429 (Too Many Requests), Rate limit exceeded)\n",
      "Backing off get_tweets(...) for 13.3s (twython.exceptions.TwythonRateLimitError: Twitter API returned a 429 (Too Many Requests), Rate limit exceeded)\n",
      "Backing off get_tweets(...) for 109.7s (twython.exceptions.TwythonRateLimitError: Twitter API returned a 429 (Too Many Requests), Rate limit exceeded)\n",
      "Backing off get_tweets(...) for 35.9s (twython.exceptions.TwythonRateLimitError: Twitter API returned a 429 (Too Many Requests), Rate limit exceeded)\n",
      "Backing off get_tweets(...) for 511.3s (twython.exceptions.TwythonRateLimitError: Twitter API returned a 429 (Too Many Requests), Rate limit exceeded)\n",
      " 13%|█▎        | 135057/1066954 [40:56<1:40:44, 154.19it/s]Backing off get_tweets(...) for 0.5s (twython.exceptions.TwythonRateLimitError: Twitter API returned a 429 (Too Many Requests), Rate limit exceeded)\n",
      "Backing off get_tweets(...) for 1.9s (twython.exceptions.TwythonRateLimitError: Twitter API returned a 429 (Too Many Requests), Rate limit exceeded)\n",
      "Backing off get_tweets(...) for 2.2s (twython.exceptions.TwythonRateLimitError: Twitter API returned a 429 (Too Many Requests), Rate limit exceeded)\n",
      "Backing off get_tweets(...) for 0.2s (twython.exceptions.TwythonRateLimitError: Twitter API returned a 429 (Too Many Requests), Rate limit exceeded)\n",
      "Backing off get_tweets(...) for 1.0s (twython.exceptions.TwythonRateLimitError: Twitter API returned a 429 (Too Many Requests), Rate limit exceeded)\n",
      "Backing off get_tweets(...) for 20.9s (twython.exceptions.TwythonRateLimitError: Twitter API returned a 429 (Too Many Requests), Rate limit exceeded)\n",
      " 13%|█▎        | 135057/1066954 [41:10<1:40:44, 154.19it/s]Backing off get_tweets(...) for 54.4s (twython.exceptions.TwythonRateLimitError: Twitter API returned a 429 (Too Many Requests), Rate limit exceeded)\n",
      "Backing off get_tweets(...) for 14.3s (twython.exceptions.TwythonRateLimitError: Twitter API returned a 429 (Too Many Requests), Rate limit exceeded)\n",
      "Backing off get_tweets(...) for 185.8s (twython.exceptions.TwythonRateLimitError: Twitter API returned a 429 (Too Many Requests), Rate limit exceeded)\n",
      "Backing off get_tweets(...) for 224.7s (twython.exceptions.TwythonRateLimitError: Twitter API returned a 429 (Too Many Requests), Rate limit exceeded)\n",
      "Backing off get_tweets(...) for 844.0s (twython.exceptions.TwythonRateLimitError: Twitter API returned a 429 (Too Many Requests), Rate limit exceeded)\n",
      " 17%|█▋        | 179322/1066954 [1:08:14<1:37:35, 151.60it/s]  Backing off get_tweets(...) for 0.2s (twython.exceptions.TwythonRateLimitError: Twitter API returned a 429 (Too Many Requests), Rate limit exceeded)\n",
      "Backing off get_tweets(...) for 0.4s (twython.exceptions.TwythonRateLimitError: Twitter API returned a 429 (Too Many Requests), Rate limit exceeded)\n",
      "Backing off get_tweets(...) for 2.6s (twython.exceptions.TwythonRateLimitError: Twitter API returned a 429 (Too Many Requests), Rate limit exceeded)\n",
      "Backing off get_tweets(...) for 5.6s (twython.exceptions.TwythonRateLimitError: Twitter API returned a 429 (Too Many Requests), Rate limit exceeded)\n",
      "Backing off get_tweets(...) for 6.3s (twython.exceptions.TwythonRateLimitError: Twitter API returned a 429 (Too Many Requests), Rate limit exceeded)\n",
      " 17%|█▋        | 179322/1066954 [1:08:30<1:37:35, 151.60it/s]Backing off get_tweets(...) for 16.3s (twython.exceptions.TwythonRateLimitError: Twitter API returned a 429 (Too Many Requests), Rate limit exceeded)\n",
      "Backing off get_tweets(...) for 19.2s (twython.exceptions.TwythonRateLimitError: Twitter API returned a 429 (Too Many Requests), Rate limit exceeded)\n",
      "Backing off get_tweets(...) for 39.9s (twython.exceptions.TwythonRateLimitError: Twitter API returned a 429 (Too Many Requests), Rate limit exceeded)\n",
      "Backing off get_tweets(...) for 80.3s (twython.exceptions.TwythonRateLimitError: Twitter API returned a 429 (Too Many Requests), Rate limit exceeded)\n",
      "Backing off get_tweets(...) for 95.2s (twython.exceptions.TwythonRateLimitError: Twitter API returned a 429 (Too Many Requests), Rate limit exceeded)\n",
      "Backing off get_tweets(...) for 101.6s (twython.exceptions.TwythonRateLimitError: Twitter API returned a 429 (Too Many Requests), Rate limit exceeded)\n"
     ]
    },
    {
     "name": "stderr",
     "output_type": "stream",
     "text": [
      "Backing off get_tweets(...) for 26.6s (twython.exceptions.TwythonRateLimitError: Twitter API returned a 429 (Too Many Requests), Rate limit exceeded)\n",
      "Backing off get_tweets(...) for 1138.8s (twython.exceptions.TwythonRateLimitError: Twitter API returned a 429 (Too Many Requests), Rate limit exceeded)\n",
      " 21%|██        | 224522/1066954 [1:38:38<1:29:39, 156.61it/s]  Backing off get_tweets(...) for 0.3s (twython.exceptions.TwythonRateLimitError: Twitter API returned a 429 (Too Many Requests), Rate limit exceeded)\n",
      "Backing off get_tweets(...) for 0.6s (twython.exceptions.TwythonRateLimitError: Twitter API returned a 429 (Too Many Requests), Rate limit exceeded)\n",
      "Backing off get_tweets(...) for 3.2s (twython.exceptions.TwythonRateLimitError: Twitter API returned a 429 (Too Many Requests), Rate limit exceeded)\n",
      "Backing off get_tweets(...) for 1.8s (twython.exceptions.TwythonRateLimitError: Twitter API returned a 429 (Too Many Requests), Rate limit exceeded)\n",
      "Backing off get_tweets(...) for 15.7s (twython.exceptions.TwythonRateLimitError: Twitter API returned a 429 (Too Many Requests), Rate limit exceeded)\n",
      " 21%|██        | 224522/1066954 [1:38:50<1:29:39, 156.61it/s]Backing off get_tweets(...) for 15.9s (twython.exceptions.TwythonRateLimitError: Twitter API returned a 429 (Too Many Requests), Rate limit exceeded)\n",
      "Backing off get_tweets(...) for 36.6s (twython.exceptions.TwythonRateLimitError: Twitter API returned a 429 (Too Many Requests), Rate limit exceeded)\n",
      "Backing off get_tweets(...) for 108.4s (twython.exceptions.TwythonRateLimitError: Twitter API returned a 429 (Too Many Requests), Rate limit exceeded)\n",
      "Backing off get_tweets(...) for 81.3s (twython.exceptions.TwythonRateLimitError: Twitter API returned a 429 (Too Many Requests), Rate limit exceeded)\n",
      "Backing off get_tweets(...) for 5.2s (twython.exceptions.TwythonRateLimitError: Twitter API returned a 429 (Too Many Requests), Rate limit exceeded)\n",
      "Backing off get_tweets(...) for 182.1s (twython.exceptions.TwythonRateLimitError: Twitter API returned a 429 (Too Many Requests), Rate limit exceeded)\n",
      "Backing off get_tweets(...) for 1303.3s (twython.exceptions.TwythonRateLimitError: Twitter API returned a 429 (Too Many Requests), Rate limit exceeded)\n",
      " 25%|██▌       | 269405/1066954 [2:12:36<1:24:45, 156.84it/s]  Backing off get_tweets(...) for 0.3s (twython.exceptions.TwythonRateLimitError: Twitter API returned a 429 (Too Many Requests), Rate limit exceeded)\n",
      "Backing off get_tweets(...) for 1.7s (twython.exceptions.TwythonRateLimitError: Twitter API returned a 429 (Too Many Requests), Rate limit exceeded)\n",
      "Backing off get_tweets(...) for 3.7s (twython.exceptions.TwythonRateLimitError: Twitter API returned a 429 (Too Many Requests), Rate limit exceeded)\n",
      "Backing off get_tweets(...) for 2.2s (twython.exceptions.TwythonRateLimitError: Twitter API returned a 429 (Too Many Requests), Rate limit exceeded)\n",
      "Backing off get_tweets(...) for 3.3s (twython.exceptions.TwythonRateLimitError: Twitter API returned a 429 (Too Many Requests), Rate limit exceeded)\n",
      "Backing off get_tweets(...) for 8.2s (twython.exceptions.TwythonRateLimitError: Twitter API returned a 429 (Too Many Requests), Rate limit exceeded)\n",
      " 25%|██▌       | 269405/1066954 [2:12:50<1:24:45, 156.84it/s]Backing off get_tweets(...) for 27.4s (twython.exceptions.TwythonRateLimitError: Twitter API returned a 429 (Too Many Requests), Rate limit exceeded)\n",
      "Backing off get_tweets(...) for 0.4s (twython.exceptions.TwythonRateLimitError: Twitter API returned a 429 (Too Many Requests), Rate limit exceeded)\n",
      "Backing off get_tweets(...) for 241.4s (twython.exceptions.TwythonRateLimitError: Twitter API returned a 429 (Too Many Requests), Rate limit exceeded)\n",
      "Backing off get_tweets(...) for 170.2s (twython.exceptions.TwythonRateLimitError: Twitter API returned a 429 (Too Many Requests), Rate limit exceeded)\n",
      "Backing off get_tweets(...) for 780.4s (twython.exceptions.TwythonRateLimitError: Twitter API returned a 429 (Too Many Requests), Rate limit exceeded)\n",
      " 29%|██▉       | 314405/1066954 [2:37:59<1:24:33, 148.34it/s] Backing off get_tweets(...) for 0.4s (twython.exceptions.TwythonRateLimitError: Twitter API returned a 429 (Too Many Requests), Rate limit exceeded)\n",
      "Backing off get_tweets(...) for 0.7s (twython.exceptions.TwythonRateLimitError: Twitter API returned a 429 (Too Many Requests), Rate limit exceeded)\n",
      "Backing off get_tweets(...) for 2.5s (twython.exceptions.TwythonRateLimitError: Twitter API returned a 429 (Too Many Requests), Rate limit exceeded)\n",
      "Backing off get_tweets(...) for 0.5s (twython.exceptions.TwythonRateLimitError: Twitter API returned a 429 (Too Many Requests), Rate limit exceeded)\n",
      "Backing off get_tweets(...) for 7.1s (twython.exceptions.TwythonRateLimitError: Twitter API returned a 429 (Too Many Requests), Rate limit exceeded)\n",
      " 29%|██▉       | 314405/1066954 [2:38:10<1:24:33, 148.34it/s]Backing off get_tweets(...) for 14.1s (twython.exceptions.TwythonRateLimitError: Twitter API returned a 429 (Too Many Requests), Rate limit exceeded)\n",
      "Backing off get_tweets(...) for 47.0s (twython.exceptions.TwythonRateLimitError: Twitter API returned a 429 (Too Many Requests), Rate limit exceeded)\n",
      "Backing off get_tweets(...) for 89.3s (twython.exceptions.TwythonRateLimitError: Twitter API returned a 429 (Too Many Requests), Rate limit exceeded)\n",
      "Backing off get_tweets(...) for 153.5s (twython.exceptions.TwythonRateLimitError: Twitter API returned a 429 (Too Many Requests), Rate limit exceeded)\n",
      "Backing off get_tweets(...) for 458.6s (twython.exceptions.TwythonRateLimitError: Twitter API returned a 429 (Too Many Requests), Rate limit exceeded)\n",
      " 34%|███▎      | 359376/1066954 [2:55:36<1:16:47, 153.57it/s] Backing off get_tweets(...) for 0.5s (twython.exceptions.TwythonRateLimitError: Twitter API returned a 429 (Too Many Requests), Rate limit exceeded)\n",
      "Backing off get_tweets(...) for 0.0s (twython.exceptions.TwythonRateLimitError: Twitter API returned a 429 (Too Many Requests), Rate limit exceeded)\n",
      "Backing off get_tweets(...) for 3.9s (twython.exceptions.TwythonRateLimitError: Twitter API returned a 429 (Too Many Requests), Rate limit exceeded)\n",
      "Backing off get_tweets(...) for 5.6s (twython.exceptions.TwythonRateLimitError: Twitter API returned a 429 (Too Many Requests), Rate limit exceeded)\n",
      "Backing off get_tweets(...) for 8.4s (twython.exceptions.TwythonRateLimitError: Twitter API returned a 429 (Too Many Requests), Rate limit exceeded)\n",
      " 34%|███▎      | 359376/1066954 [2:55:50<1:16:47, 153.57it/s]Backing off get_tweets(...) for 9.3s (twython.exceptions.TwythonRateLimitError: Twitter API returned a 429 (Too Many Requests), Rate limit exceeded)\n",
      "Backing off get_tweets(...) for 63.8s (twython.exceptions.TwythonRateLimitError: Twitter API returned a 429 (Too Many Requests), Rate limit exceeded)\n",
      "Backing off get_tweets(...) for 54.3s (twython.exceptions.TwythonRateLimitError: Twitter API returned a 429 (Too Many Requests), Rate limit exceeded)\n",
      "Backing off get_tweets(...) for 35.0s (twython.exceptions.TwythonRateLimitError: Twitter API returned a 429 (Too Many Requests), Rate limit exceeded)\n",
      "Backing off get_tweets(...) for 428.1s (twython.exceptions.TwythonRateLimitError: Twitter API returned a 429 (Too Many Requests), Rate limit exceeded)\n",
      "Backing off get_tweets(...) for 487.6s (twython.exceptions.TwythonRateLimitError: Twitter API returned a 429 (Too Many Requests), Rate limit exceeded)\n"
     ]
    }
   ],
   "source": [
    "with tqdm(total = max_tweets - crawled_tweets) as pbar:\n",
    "    while True: \n",
    "        tweets = get_tweets('china', max_id=max_id, tweet_mode='extended')\n",
    "\n",
    "        tweets = tweets[['id', 'created_at', 'full_text']]\n",
    "        tweets.to_csv('tweets/%s.csv' % tweets['id'].max(), index=False)\n",
    "\n",
    "        crawled_tweets += len(tweets)\n",
    "        pbar.update(len(tweets))\n",
    "\n",
    "        if crawled_tweets >= max_tweets: \n",
    "            break\n",
    "\n",
    "        max_id = tweets['id'].min()"
   ]
  },
  {
   "cell_type": "code",
   "execution_count": null,
   "metadata": {
    "ExecuteTime": {
     "start_time": "2022-11-05T11:06:10.193Z"
    }
   },
   "outputs": [],
   "source": [
    "csv_files = [pd.read_csv(f) for f in glob(\"tweets/*.csv\")]"
   ]
  },
  {
   "cell_type": "code",
   "execution_count": null,
   "metadata": {
    "ExecuteTime": {
     "start_time": "2022-11-05T11:06:10.195Z"
    }
   },
   "outputs": [],
   "source": [
    "sum([c.shape[0] for c in csv_files])"
   ]
  }
 ],
 "metadata": {
  "kernelspec": {
   "display_name": "Python 3",
   "language": "python",
   "name": "python3"
  },
  "language_info": {
   "codemirror_mode": {
    "name": "ipython",
    "version": 3
   },
   "file_extension": ".py",
   "mimetype": "text/x-python",
   "name": "python",
   "nbconvert_exporter": "python",
   "pygments_lexer": "ipython3",
   "version": "3.7.9"
  },
  "toc": {
   "base_numbering": 1,
   "nav_menu": {},
   "number_sections": true,
   "sideBar": true,
   "skip_h1_title": false,
   "title_cell": "Table of Contents",
   "title_sidebar": "Contents",
   "toc_cell": false,
   "toc_position": {},
   "toc_section_display": true,
   "toc_window_display": false
  }
 },
 "nbformat": 4,
 "nbformat_minor": 2
}
