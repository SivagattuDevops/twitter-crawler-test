{
 "cells": [
  {
   "cell_type": "code",
   "execution_count": 2,
   "id": "4c6b99c5",
   "metadata": {},
   "outputs": [],
   "source": [
    "import tarfile\n",
    "import gzip\n",
    "import os\n",
    "import nltk \n",
    "import pandas as pd\n",
    "from nltk.tokenize import word_tokenize   \n",
    "from nltk.corpus import stopwords         \n",
    "from nltk.stem import WordNetLemmatizer   \n",
    "from nltk.stem import PorterStemmer      \n",
    "import string\n",
    "from tqdm import tqdm\n",
    "from glob import glob\n",
    "import re"
   ]
  },
  {
   "cell_type": "code",
   "execution_count": 2,
   "id": "3336dc36",
   "metadata": {},
   "outputs": [
    {
     "name": "stderr",
     "output_type": "stream",
     "text": [
      "[nltk_data] Downloading package punkt to C:\\Users\\Arya\n",
      "[nltk_data]     Yu\\AppData\\Roaming\\nltk_data...\n",
      "[nltk_data]   Package punkt is already up-to-date!\n",
      "[nltk_data] Downloading package stopwords to C:\\Users\\Arya\n",
      "[nltk_data]     Yu\\AppData\\Roaming\\nltk_data...\n",
      "[nltk_data]   Package stopwords is already up-to-date!\n",
      "[nltk_data] Downloading package averaged_perceptron_tagger to\n",
      "[nltk_data]     C:\\Users\\Arya Yu\\AppData\\Roaming\\nltk_data...\n",
      "[nltk_data]   Package averaged_perceptron_tagger is already up-to-\n",
      "[nltk_data]       date!\n",
      "[nltk_data] Downloading package wordnet to C:\\Users\\Arya\n",
      "[nltk_data]     Yu\\AppData\\Roaming\\nltk_data...\n",
      "[nltk_data]   Package wordnet is already up-to-date!\n",
      "[nltk_data] Downloading package omw-1.4 to C:\\Users\\Arya\n",
      "[nltk_data]     Yu\\AppData\\Roaming\\nltk_data...\n",
      "[nltk_data]   Package omw-1.4 is already up-to-date!\n"
     ]
    },
    {
     "data": {
      "text/plain": [
       "True"
      ]
     },
     "execution_count": 2,
     "metadata": {},
     "output_type": "execute_result"
    }
   ],
   "source": [
    "nltk.download('punkt')\n",
    "nltk.download('stopwords')\n",
    "nltk.download('averaged_perceptron_tagger')\n",
    "nltk.download('wordnet')\n",
    "nltk.download('omw-1.4')"
   ]
  },
  {
   "cell_type": "code",
   "execution_count": 13,
   "id": "e2cc905c",
   "metadata": {},
   "outputs": [],
   "source": [
    "def text_process(text):\n",
    "    res = []\n",
    "    if text:\n",
    "        text = text.strip('RT')\n",
    "        at_pattern = re.compile(\"@[\\S]*\")\n",
    "        url_pattern = re.compile(\"https:\\/\\/[\\w./]*[\\w/]\")\n",
    "        text = re.sub(at_pattern,'',text)\n",
    "        text = re.sub(url_pattern,'',text)\n",
    "        tokenizer = nltk.tokenize.RegexpTokenizer(r'\\w+')\n",
    "        tokens = tokenizer.tokenize(text.lower())\n",
    "        stop_words = set(stopwords.words('english'))\n",
    "        stop_words.update(list(string.punctuation))\n",
    "        filtered = [w for w in tokens if w not in stop_words]\n",
    "        lemmatizaer = WordNetLemmatizer()\n",
    "        for word, tag in nltk.pos_tag(filtered):\n",
    "            if tag.startswith('NN'):\n",
    "                word= lemmatizaer.lemmatize(word, pos='n')\n",
    "            elif tag.startswith('VB'):\n",
    "                word= lemmatizaer.lemmatize(word, pos='v')\n",
    "            elif tag.startswith('JJ'):\n",
    "                word= lemmatizaer.lemmatize(word, pos='a')\n",
    "            elif tag.startswith('R'):\n",
    "                word= lemmatizaer.lemmatize(word, pos='r')\n",
    "            res.append(word)\n",
    "    #porter_stemmer = PorterStemmer()\n",
    "    #for word in lemmatized_word:\n",
    "        #res.append(porter_stemmer.stem(word))\n",
    "    return res"
   ]
  },
  {
   "cell_type": "code",
   "execution_count": null,
   "id": "c558813b",
   "metadata": {},
   "outputs": [],
   "source": [
    "data_root = \"./tweets/\"\n",
    "process_root = \"./tweets_process/\"\n",
    "if not os.path.exists(process_root):\n",
    "    os.makedirs(process_root)\n",
    "    \n",
    "def csv_process(file):\n",
    "    df = pd.read_csv(file)\n",
    "    df['text_process'] = df['full_text'].apply(lambda x: \" \".join(text_process(x)))\n",
    "    df = df.loc[:,['id','text_process']]\n",
    "    df.to_csv(file.replace(\"tweets\",\"tweets_process\"),index=False)\n",
    "\n",
    "for root, dirs, files in os.walk(data_root):\n",
    "    for i in tqdm(range(len(files))):\n",
    "        file = files[i]\n",
    "        file_path = os.path.join(root,file)\n",
    "        if file not in os.listdir(root.replace(\"tweets\",\"tweets_process\")):\n",
    "            csv_process(file_path)"
   ]
  },
  {
   "cell_type": "code",
   "execution_count": 68,
   "id": "efe10680",
   "metadata": {},
   "outputs": [
    {
     "name": "stderr",
     "output_type": "stream",
     "text": [
      "0it [00:00, ?it/s]\n",
      "100%|██████████████████████████████████████████████████████████████████████████████| 4864/4864 [20:11<00:00,  4.02it/s]\n",
      "100%|████████████████████████████████████████████████████████████████████████████████| 242/242 [01:02<00:00,  3.87it/s]\n",
      "100%|██████████████████████████████████████████████████████████████████████████████| 6567/6567 [32:28<00:00,  3.37it/s]\n"
     ]
    }
   ],
   "source": [
    "import csv\n",
    "process_dict={}\n",
    "for root,dirs,files in os.walk(\"./tweets\"):\n",
    "    for i in tqdm(range(len(files))):\n",
    "        file = files[i]\n",
    "        file_path = os.path.join(root,file)\n",
    "        with open(file_path,'r',encoding='UTF-8') as csvfile:\n",
    "            csv_reader = csv.reader(csvfile) \n",
    "            header = next(csv_reader)  \n",
    "            for row in csv_reader:  \n",
    "                if len(row)==3:\n",
    "                    id = row[0]\n",
    "                    text = row[2]\n",
    "                    if id not in process_dict:\n",
    "                        process_dict[id] = \" \".join(text_process(text))       "
   ]
  },
  {
   "cell_type": "code",
   "execution_count": 69,
   "id": "c76566d5",
   "metadata": {
    "scrolled": true
   },
   "outputs": [
    {
     "data": {
      "text/plain": [
       "1136261"
      ]
     },
     "execution_count": 69,
     "metadata": {},
     "output_type": "execute_result"
    }
   ],
   "source": [
    "len(process_dict)"
   ]
  },
  {
   "cell_type": "code",
   "execution_count": 70,
   "id": "d1522c05",
   "metadata": {},
   "outputs": [],
   "source": [
    "with open('data_processing.csv', 'w',newline = \"\",encoding='UTF-8') as csv_file:  \n",
    "    writer = csv.writer(csv_file)\n",
    "    writer.writerow([\"id\",\"text_process\"])\n",
    "    for key, value in process_dict.items():\n",
    "        writer.writerow([key,value])"
   ]
  },
  {
   "cell_type": "code",
   "execution_count": 3,
   "id": "e72a1607",
   "metadata": {},
   "outputs": [],
   "source": [
    "data = pd.read_csv('data_processing.csv')\n",
    "process_root = \"./tweets_process/\"\n",
    "if not os.path.exists(process_root):\n",
    "    os.makedirs(process_root)\n",
    "\n",
    "row_num = int(len(data)/10)\n",
    "for i in range(0, 10):\n",
    "    if i==9:\n",
    "        save_data = data.iloc[i*row_num :]\n",
    "    else:\n",
    "        save_data = data.iloc[i*row_num : (i+1)*row_num]\n",
    "    file_name = process_root + str(i) + '.csv'  \n",
    "    save_data.to_csv(file_name)  "
   ]
  },
  {
   "cell_type": "code",
   "execution_count": null,
   "id": "4dea8ad6",
   "metadata": {},
   "outputs": [],
   "source": []
  }
 ],
 "metadata": {
  "kernelspec": {
   "display_name": "Python 3 (ipykernel)",
   "language": "python",
   "name": "python3"
  },
  "language_info": {
   "codemirror_mode": {
    "name": "ipython",
    "version": 3
   },
   "file_extension": ".py",
   "mimetype": "text/x-python",
   "name": "python",
   "nbconvert_exporter": "python",
   "pygments_lexer": "ipython3",
   "version": "3.8.12"
  }
 },
 "nbformat": 4,
 "nbformat_minor": 5
}
