{
 "cells": [
  {
   "cell_type": "code",
   "execution_count": 1,
   "metadata": {
    "ExecuteTime": {
     "end_time": "2022-11-06T05:31:53.966219Z",
     "start_time": "2022-11-06T05:31:49.347491Z"
    }
   },
   "outputs": [
    {
     "name": "stdout",
     "output_type": "stream",
     "text": [
      "Defaulting to user installation because normal site-packages is not writeable\n",
      "Requirement already satisfied: twython in /home/pgis20/towailam3/.local/lib/python3.7/site-packages (3.9.1)\n",
      "Requirement already satisfied: requests>=2.1.0 in /opt/anaconda/lib/python3.7/site-packages (from twython) (2.25.1)\n",
      "Requirement already satisfied: requests-oauthlib>=0.4.0 in /opt/anaconda/lib/python3.7/site-packages (from twython) (1.3.0)\n",
      "Requirement already satisfied: certifi>=2017.4.17 in /home/pgis20/towailam3/.local/lib/python3.7/site-packages (from requests>=2.1.0->twython) (2022.6.15.1)\n",
      "Requirement already satisfied: chardet<5,>=3.0.2 in /opt/anaconda/lib/python3.7/site-packages (from requests>=2.1.0->twython) (4.0.0)\n",
      "Requirement already satisfied: urllib3<1.27,>=1.21.1 in /opt/anaconda/lib/python3.7/site-packages (from requests>=2.1.0->twython) (1.26.4)\n",
      "Requirement already satisfied: idna<3,>=2.5 in /opt/anaconda/lib/python3.7/site-packages (from requests>=2.1.0->twython) (2.10)\n",
      "Requirement already satisfied: requests>=2.1.0 in /opt/anaconda/lib/python3.7/site-packages (from twython) (2.25.1)\n",
      "Requirement already satisfied: oauthlib>=3.0.0 in /opt/anaconda/lib/python3.7/site-packages (from requests-oauthlib>=0.4.0->twython) (3.1.0)\n",
      "Defaulting to user installation because normal site-packages is not writeable\n",
      "Requirement already satisfied: backoff in /home/pgis20/towailam3/.local/lib/python3.7/site-packages (2.2.1)\n"
     ]
    }
   ],
   "source": [
    "! pip install twython\n",
    "! pip install backoff"
   ]
  },
  {
   "cell_type": "code",
   "execution_count": 2,
   "metadata": {
    "ExecuteTime": {
     "end_time": "2022-11-06T05:31:54.634409Z",
     "start_time": "2022-11-06T05:31:53.971450Z"
    }
   },
   "outputs": [],
   "source": [
    "from twython import Twython, TwythonError, TwythonRateLimitError\n",
    "import pandas as pd\n",
    "from time import sleep\n",
    "from tqdm import tqdm\n",
    "from glob import glob\n",
    "import yaml\n",
    "import backoff\n",
    "import logging"
   ]
  },
  {
   "cell_type": "code",
   "execution_count": 3,
   "metadata": {
    "ExecuteTime": {
     "end_time": "2022-11-06T05:31:54.641637Z",
     "start_time": "2022-11-06T05:31:54.637576Z"
    }
   },
   "outputs": [],
   "source": [
    "with open('cred.yaml', 'r') as f:\n",
    "    twitter_cred = yaml.safe_load(f)"
   ]
  },
  {
   "cell_type": "code",
   "execution_count": 4,
   "metadata": {
    "ExecuteTime": {
     "end_time": "2022-11-06T05:31:55.221353Z",
     "start_time": "2022-11-06T05:31:54.643567Z"
    }
   },
   "outputs": [],
   "source": [
    "twitter_oauth = Twython(twitter_cred['APP_KEY'], twitter_cred['APP_SECRET'], oauth_version=2)\n",
    "ACCESS_TOKEN = twitter_oauth.obtain_access_token()\n",
    "\n",
    "t = Twython(twitter_cred['APP_KEY'], access_token=ACCESS_TOKEN)"
   ]
  },
  {
   "cell_type": "code",
   "execution_count": 5,
   "metadata": {
    "ExecuteTime": {
     "end_time": "2022-11-06T05:31:55.232029Z",
     "start_time": "2022-11-06T05:31:55.224959Z"
    }
   },
   "outputs": [],
   "source": [
    "ids = [f.rstrip('.csv').lstrip('tweets/') for f in glob(\"tweets/*.csv\")]\n",
    "if ids:\n",
    "    max_id = min([int(i) for i in ids])\n",
    "else:\n",
    "    max_id = None\n",
    "max_id"
   ]
  },
  {
   "cell_type": "code",
   "execution_count": 6,
   "metadata": {
    "ExecuteTime": {
     "end_time": "2022-11-06T05:31:55.252789Z",
     "start_time": "2022-11-06T05:31:55.234229Z"
    }
   },
   "outputs": [
    {
     "data": {
      "text/plain": [
       "0"
      ]
     },
     "execution_count": 6,
     "metadata": {},
     "output_type": "execute_result"
    }
   ],
   "source": [
    "crawled_tweets = 0\n",
    "for f in glob(\"tweets/*.csv\"):\n",
    "    crawled_tweets += pd.read_csv(f).shape[0]\n",
    "crawled_tweets"
   ]
  },
  {
   "cell_type": "code",
   "execution_count": 7,
   "metadata": {
    "ExecuteTime": {
     "end_time": "2022-11-06T05:31:55.260986Z",
     "start_time": "2022-11-06T05:31:55.255623Z"
    }
   },
   "outputs": [],
   "source": [
    "max_tweets = 1_100_000"
   ]
  },
  {
   "cell_type": "code",
   "execution_count": 8,
   "metadata": {
    "ExecuteTime": {
     "end_time": "2022-11-06T05:31:55.276631Z",
     "start_time": "2022-11-06T05:31:55.264330Z"
    }
   },
   "outputs": [],
   "source": [
    "@backoff.on_exception(backoff.expo, (TwythonError, TwythonRateLimitError))\n",
    "def get_tweets(query, max_id = None, lang = 'en', count = 100, tweet_mode='compat'):\n",
    "    result = t.search(q=query, lang = lang, count=count, \n",
    "                      result_type='recent', max_id=max_id, tweet_mode=tweet_mode)\n",
    "\n",
    "    return pd.DataFrame(result['statuses'])"
   ]
  },
  {
   "cell_type": "code",
   "execution_count": 9,
   "metadata": {
    "ExecuteTime": {
     "end_time": "2022-11-06T05:31:55.288503Z",
     "start_time": "2022-11-06T05:31:55.279146Z"
    }
   },
   "outputs": [],
   "source": [
    "logging.getLogger('backoff').addHandler(logging.StreamHandler())"
   ]
  },
  {
   "cell_type": "code",
   "execution_count": null,
   "metadata": {
    "ExecuteTime": {
     "start_time": "2022-11-06T05:31:49.275Z"
    },
    "hidePrompt": true,
    "scrolled": true
   },
   "outputs": [
    {
     "name": "stderr",
     "output_type": "stream",
     "text": [
      "  4%|▍         | 43153/1100000 [04:05<1:39:36, 176.85it/s]Backing off get_tweets(...) for 0.2s (twython.exceptions.TwythonRateLimitError: Twitter API returned a 429 (Too Many Requests), Rate limit exceeded)\n",
      "Backing off get_tweets(...) for 1.7s (twython.exceptions.TwythonRateLimitError: Twitter API returned a 429 (Too Many Requests), Rate limit exceeded)\n",
      "Backing off get_tweets(...) for 3.4s (twython.exceptions.TwythonRateLimitError: Twitter API returned a 429 (Too Many Requests), Rate limit exceeded)\n",
      "Backing off get_tweets(...) for 0.4s (twython.exceptions.TwythonRateLimitError: Twitter API returned a 429 (Too Many Requests), Rate limit exceeded)\n",
      "Backing off get_tweets(...) for 15.3s (twython.exceptions.TwythonRateLimitError: Twitter API returned a 429 (Too Many Requests), Rate limit exceeded)\n",
      "  4%|▍         | 43153/1100000 [04:20<1:39:36, 176.85it/s]Backing off get_tweets(...) for 14.9s (twython.exceptions.TwythonRateLimitError: Twitter API returned a 429 (Too Many Requests), Rate limit exceeded)\n",
      "  8%|▊         | 87982/1100000 [08:47<1:33:26, 180.49it/s]Backing off get_tweets(...) for 1.0s (twython.exceptions.TwythonRateLimitError: Twitter API returned a 429 (Too Many Requests), Rate limit exceeded)\n",
      "Backing off get_tweets(...) for 1.8s (twython.exceptions.TwythonRateLimitError: Twitter API returned a 429 (Too Many Requests), Rate limit exceeded)\n",
      "Backing off get_tweets(...) for 1.0s (twython.exceptions.TwythonRateLimitError: Twitter API returned a 429 (Too Many Requests), Rate limit exceeded)\n",
      "Backing off get_tweets(...) for 6.2s (twython.exceptions.TwythonRateLimitError: Twitter API returned a 429 (Too Many Requests), Rate limit exceeded)\n",
      "Backing off get_tweets(...) for 3.7s (twython.exceptions.TwythonRateLimitError: Twitter API returned a 429 (Too Many Requests), Rate limit exceeded)\n",
      "  8%|▊         | 87982/1100000 [09:00<1:33:26, 180.49it/s]Backing off get_tweets(...) for 17.0s (twython.exceptions.TwythonRateLimitError: Twitter API returned a 429 (Too Many Requests), Rate limit exceeded)\n",
      "Backing off get_tweets(...) for 21.5s (twython.exceptions.TwythonRateLimitError: Twitter API returned a 429 (Too Many Requests), Rate limit exceeded)\n",
      "Backing off get_tweets(...) for 56.4s (twython.exceptions.TwythonRateLimitError: Twitter API returned a 429 (Too Many Requests), Rate limit exceeded)\n",
      "Backing off get_tweets(...) for 150.3s (twython.exceptions.TwythonRateLimitError: Twitter API returned a 429 (Too Many Requests), Rate limit exceeded)\n",
      "Backing off get_tweets(...) for 217.1s (twython.exceptions.TwythonRateLimitError: Twitter API returned a 429 (Too Many Requests), Rate limit exceeded)\n",
      "Backing off get_tweets(...) for 827.6s (twython.exceptions.TwythonRateLimitError: Twitter API returned a 429 (Too Many Requests), Rate limit exceeded)\n",
      " 12%|█▏        | 130798/1100000 [34:41<1:36:16, 167.80it/s] Backing off get_tweets(...) for 0.7s (twython.exceptions.TwythonRateLimitError: Twitter API returned a 429 (Too Many Requests), Rate limit exceeded)\n",
      "Backing off get_tweets(...) for 0.0s (twython.exceptions.TwythonRateLimitError: Twitter API returned a 429 (Too Many Requests), Rate limit exceeded)\n",
      "Backing off get_tweets(...) for 2.0s (twython.exceptions.TwythonRateLimitError: Twitter API returned a 429 (Too Many Requests), Rate limit exceeded)\n",
      "Backing off get_tweets(...) for 3.2s (twython.exceptions.TwythonRateLimitError: Twitter API returned a 429 (Too Many Requests), Rate limit exceeded)\n",
      "Backing off get_tweets(...) for 16.0s (twython.exceptions.TwythonRateLimitError: Twitter API returned a 429 (Too Many Requests), Rate limit exceeded)\n",
      " 12%|█▏        | 130798/1100000 [35:00<1:36:16, 167.80it/s]Backing off get_tweets(...) for 12.8s (twython.exceptions.TwythonRateLimitError: Twitter API returned a 429 (Too Many Requests), Rate limit exceeded)\n",
      "Backing off get_tweets(...) for 59.1s (twython.exceptions.TwythonRateLimitError: Twitter API returned a 429 (Too Many Requests), Rate limit exceeded)\n",
      "Backing off get_tweets(...) for 5.3s (twython.exceptions.TwythonRateLimitError: Twitter API returned a 429 (Too Many Requests), Rate limit exceeded)\n",
      "Backing off get_tweets(...) for 174.8s (twython.exceptions.TwythonRateLimitError: Twitter API returned a 429 (Too Many Requests), Rate limit exceeded)\n",
      "Backing off get_tweets(...) for 63.2s (twython.exceptions.TwythonRateLimitError: Twitter API returned a 429 (Too Many Requests), Rate limit exceeded)\n",
      "Backing off get_tweets(...) for 929.3s (twython.exceptions.TwythonRateLimitError: Twitter API returned a 429 (Too Many Requests), Rate limit exceeded)\n",
      " 16%|█▌        | 172816/1100000 [59:53<1:29:14, 173.15it/s]  Backing off get_tweets(...) for 0.5s (twython.exceptions.TwythonRateLimitError: Twitter API returned a 429 (Too Many Requests), Rate limit exceeded)\n",
      "Backing off get_tweets(...) for 1.3s (twython.exceptions.TwythonRateLimitError: Twitter API returned a 429 (Too Many Requests), Rate limit exceeded)\n",
      "Backing off get_tweets(...) for 2.0s (twython.exceptions.TwythonRateLimitError: Twitter API returned a 429 (Too Many Requests), Rate limit exceeded)\n",
      "Backing off get_tweets(...) for 3.3s (twython.exceptions.TwythonRateLimitError: Twitter API returned a 429 (Too Many Requests), Rate limit exceeded)\n",
      "Backing off get_tweets(...) for 10.8s (twython.exceptions.TwythonRateLimitError: Twitter API returned a 429 (Too Many Requests), Rate limit exceeded)\n",
      " 16%|█▌        | 172816/1100000 [1:00:10<1:29:14, 173.15it/s]Backing off get_tweets(...) for 24.6s (twython.exceptions.TwythonRateLimitError: Twitter API returned a 429 (Too Many Requests), Rate limit exceeded)\n",
      "Backing off get_tweets(...) for 54.8s (twython.exceptions.TwythonRateLimitError: Twitter API returned a 429 (Too Many Requests), Rate limit exceeded)\n",
      "Backing off get_tweets(...) for 15.6s (twython.exceptions.TwythonRateLimitError: Twitter API returned a 429 (Too Many Requests), Rate limit exceeded)\n",
      "Backing off get_tweets(...) for 99.6s (twython.exceptions.TwythonRateLimitError: Twitter API returned a 429 (Too Many Requests), Rate limit exceeded)\n",
      "Backing off get_tweets(...) for 25.6s (twython.exceptions.TwythonRateLimitError: Twitter API returned a 429 (Too Many Requests), Rate limit exceeded)\n",
      "Backing off get_tweets(...) for 882.0s (twython.exceptions.TwythonRateLimitError: Twitter API returned a 429 (Too Many Requests), Rate limit exceeded)\n",
      " 20%|█▉        | 216551/1100000 [1:22:38<1:19:45, 184.62it/s] Backing off get_tweets(...) for 0.6s (twython.exceptions.TwythonRateLimitError: Twitter API returned a 429 (Too Many Requests), Rate limit exceeded)\n",
      "Backing off get_tweets(...) for 0.6s (twython.exceptions.TwythonRateLimitError: Twitter API returned a 429 (Too Many Requests), Rate limit exceeded)\n",
      "Backing off get_tweets(...) for 3.2s (twython.exceptions.TwythonRateLimitError: Twitter API returned a 429 (Too Many Requests), Rate limit exceeded)\n",
      "Backing off get_tweets(...) for 5.3s (twython.exceptions.TwythonRateLimitError: Twitter API returned a 429 (Too Many Requests), Rate limit exceeded)\n",
      "Backing off get_tweets(...) for 10.1s (twython.exceptions.TwythonRateLimitError: Twitter API returned a 429 (Too Many Requests), Rate limit exceeded)\n",
      " 20%|█▉        | 216551/1100000 [1:22:50<1:19:45, 184.62it/s]Backing off get_tweets(...) for 10.2s (twython.exceptions.TwythonRateLimitError: Twitter API returned a 429 (Too Many Requests), Rate limit exceeded)\n",
      "Backing off get_tweets(...) for 2.1s (twython.exceptions.TwythonRateLimitError: Twitter API returned a 429 (Too Many Requests), Rate limit exceeded)\n",
      "Backing off get_tweets(...) for 118.9s (twython.exceptions.TwythonRateLimitError: Twitter API returned a 429 (Too Many Requests), Rate limit exceeded)\n",
      "Backing off get_tweets(...) for 26.5s (twython.exceptions.TwythonRateLimitError: Twitter API returned a 429 (Too Many Requests), Rate limit exceeded)\n",
      "Backing off get_tweets(...) for 429.7s (twython.exceptions.TwythonRateLimitError: Twitter API returned a 429 (Too Many Requests), Rate limit exceeded)\n",
      "Backing off get_tweets(...) for 522.6s (twython.exceptions.TwythonRateLimitError: Twitter API returned a 429 (Too Many Requests), Rate limit exceeded)\n",
      " 24%|██▎       | 260857/1100000 [1:45:38<1:19:33, 175.77it/s] Backing off get_tweets(...) for 0.7s (twython.exceptions.TwythonRateLimitError: Twitter API returned a 429 (Too Many Requests), Rate limit exceeded)\n"
     ]
    },
    {
     "name": "stderr",
     "output_type": "stream",
     "text": [
      "Backing off get_tweets(...) for 1.9s (twython.exceptions.TwythonRateLimitError: Twitter API returned a 429 (Too Many Requests), Rate limit exceeded)\n",
      "Backing off get_tweets(...) for 1.6s (twython.exceptions.TwythonRateLimitError: Twitter API returned a 429 (Too Many Requests), Rate limit exceeded)\n",
      "Backing off get_tweets(...) for 1.0s (twython.exceptions.TwythonRateLimitError: Twitter API returned a 429 (Too Many Requests), Rate limit exceeded)\n",
      "Backing off get_tweets(...) for 2.6s (twython.exceptions.TwythonRateLimitError: Twitter API returned a 429 (Too Many Requests), Rate limit exceeded)\n",
      "Backing off get_tweets(...) for 15.9s (twython.exceptions.TwythonRateLimitError: Twitter API returned a 429 (Too Many Requests), Rate limit exceeded)\n",
      " 24%|██▎       | 260857/1100000 [1:45:50<1:19:33, 175.77it/s]Backing off get_tweets(...) for 23.6s (twython.exceptions.TwythonRateLimitError: Twitter API returned a 429 (Too Many Requests), Rate limit exceeded)\n",
      "Backing off get_tweets(...) for 37.8s (twython.exceptions.TwythonRateLimitError: Twitter API returned a 429 (Too Many Requests), Rate limit exceeded)\n",
      "Backing off get_tweets(...) for 192.8s (twython.exceptions.TwythonRateLimitError: Twitter API returned a 429 (Too Many Requests), Rate limit exceeded)\n",
      "Backing off get_tweets(...) for 262.8s (twython.exceptions.TwythonRateLimitError: Twitter API returned a 429 (Too Many Requests), Rate limit exceeded)\n",
      "Backing off get_tweets(...) for 152.0s (twython.exceptions.TwythonRateLimitError: Twitter API returned a 429 (Too Many Requests), Rate limit exceeded)\n",
      " 27%|██▋       | 297372/1100000 [2:00:41<1:18:10, 171.12it/s] Backing off get_tweets(...) for 0.6s (twython.exceptions.TwythonRateLimitError: Twitter API returned a 429 (Too Many Requests), Rate limit exceeded)\n",
      "Backing off get_tweets(...) for 0.5s (twython.exceptions.TwythonRateLimitError: Twitter API returned a 429 (Too Many Requests), Rate limit exceeded)\n",
      "Backing off get_tweets(...) for 1.5s (twython.exceptions.TwythonRateLimitError: Twitter API returned a 429 (Too Many Requests), Rate limit exceeded)\n",
      "Backing off get_tweets(...) for 1.0s (twython.exceptions.TwythonRateLimitError: Twitter API returned a 429 (Too Many Requests), Rate limit exceeded)\n",
      "Backing off get_tweets(...) for 5.2s (twython.exceptions.TwythonRateLimitError: Twitter API returned a 429 (Too Many Requests), Rate limit exceeded)\n",
      "Backing off get_tweets(...) for 1.1s (twython.exceptions.TwythonRateLimitError: Twitter API returned a 429 (Too Many Requests), Rate limit exceeded)\n",
      "Backing off get_tweets(...) for 43.6s (twython.exceptions.TwythonRateLimitError: Twitter API returned a 429 (Too Many Requests), Rate limit exceeded)\n",
      " 27%|██▋       | 297372/1100000 [2:01:00<1:18:10, 171.12it/s]Backing off get_tweets(...) for 31.8s (twython.exceptions.TwythonRateLimitError: Twitter API returned a 429 (Too Many Requests), Rate limit exceeded)\n",
      "Backing off get_tweets(...) for 250.2s (twython.exceptions.TwythonRateLimitError: Twitter API returned a 429 (Too Many Requests), Rate limit exceeded)\n",
      "Backing off get_tweets(...) for 65.2s (twython.exceptions.TwythonRateLimitError: Twitter API returned a 429 (Too Many Requests), Rate limit exceeded)\n",
      "Backing off get_tweets(...) for 732.2s (twython.exceptions.TwythonRateLimitError: Twitter API returned a 429 (Too Many Requests), Rate limit exceeded)\n",
      " 31%|███       | 341923/1100000 [2:23:43<1:11:43, 176.16it/s] Backing off get_tweets(...) for 0.8s (twython.exceptions.TwythonRateLimitError: Twitter API returned a 429 (Too Many Requests), Rate limit exceeded)\n",
      "Backing off get_tweets(...) for 1.6s (twython.exceptions.TwythonRateLimitError: Twitter API returned a 429 (Too Many Requests), Rate limit exceeded)\n",
      "Backing off get_tweets(...) for 3.5s (twython.exceptions.TwythonRateLimitError: Twitter API returned a 429 (Too Many Requests), Rate limit exceeded)\n",
      "Backing off get_tweets(...) for 5.1s (twython.exceptions.TwythonRateLimitError: Twitter API returned a 429 (Too Many Requests), Rate limit exceeded)\n",
      "Backing off get_tweets(...) for 5.6s (twython.exceptions.TwythonRateLimitError: Twitter API returned a 429 (Too Many Requests), Rate limit exceeded)\n",
      " 31%|███       | 341923/1100000 [2:24:00<1:11:43, 176.16it/s]Backing off get_tweets(...) for 12.4s (twython.exceptions.TwythonRateLimitError: Twitter API returned a 429 (Too Many Requests), Rate limit exceeded)\n",
      "Backing off get_tweets(...) for 50.2s (twython.exceptions.TwythonRateLimitError: Twitter API returned a 429 (Too Many Requests), Rate limit exceeded)\n",
      "Backing off get_tweets(...) for 50.8s (twython.exceptions.TwythonRateLimitError: Twitter API returned a 429 (Too Many Requests), Rate limit exceeded)\n",
      "Backing off get_tweets(...) for 235.4s (twython.exceptions.TwythonRateLimitError: Twitter API returned a 429 (Too Many Requests), Rate limit exceeded)\n",
      "Backing off get_tweets(...) for 174.1s (twython.exceptions.TwythonRateLimitError: Twitter API returned a 429 (Too Many Requests), Rate limit exceeded)\n",
      "Backing off get_tweets(...) for 486.2s (twython.exceptions.TwythonRateLimitError: Twitter API returned a 429 (Too Many Requests), Rate limit exceeded)\n",
      " 35%|███▌      | 386835/1100000 [2:45:21<1:07:14, 176.76it/s] Backing off get_tweets(...) for 0.1s (twython.exceptions.TwythonRateLimitError: Twitter API returned a 429 (Too Many Requests), Rate limit exceeded)\n",
      "Backing off get_tweets(...) for 0.1s (twython.exceptions.TwythonRateLimitError: Twitter API returned a 429 (Too Many Requests), Rate limit exceeded)\n",
      "Backing off get_tweets(...) for 2.1s (twython.exceptions.TwythonRateLimitError: Twitter API returned a 429 (Too Many Requests), Rate limit exceeded)\n",
      "Backing off get_tweets(...) for 0.2s (twython.exceptions.TwythonRateLimitError: Twitter API returned a 429 (Too Many Requests), Rate limit exceeded)\n",
      "Backing off get_tweets(...) for 9.5s (twython.exceptions.TwythonRateLimitError: Twitter API returned a 429 (Too Many Requests), Rate limit exceeded)\n",
      "Backing off get_tweets(...) for 10.7s (twython.exceptions.TwythonRateLimitError: Twitter API returned a 429 (Too Many Requests), Rate limit exceeded)\n",
      " 35%|███▌      | 386835/1100000 [2:45:40<1:07:14, 176.76it/s]Backing off get_tweets(...) for 26.6s (twython.exceptions.TwythonRateLimitError: Twitter API returned a 429 (Too Many Requests), Rate limit exceeded)\n",
      "Backing off get_tweets(...) for 31.5s (twython.exceptions.TwythonRateLimitError: Twitter API returned a 429 (Too Many Requests), Rate limit exceeded)\n",
      "Backing off get_tweets(...) for 200.7s (twython.exceptions.TwythonRateLimitError: Twitter API returned a 429 (Too Many Requests), Rate limit exceeded)\n",
      "Backing off get_tweets(...) for 98.6s (twython.exceptions.TwythonRateLimitError: Twitter API returned a 429 (Too Many Requests), Rate limit exceeded)\n",
      "Backing off get_tweets(...) for 995.9s (twython.exceptions.TwythonRateLimitError: Twitter API returned a 429 (Too Many Requests), Rate limit exceeded)\n",
      " 38%|███▊      | 413364/1100000 [3:10:47<1:02:25, 183.33it/s] Backing off get_tweets(...) for 1.0s (twython.exceptions.TwythonError: (\"Connection broken: ConnectionResetError(104, 'Connection reset by peer')\", ConnectionResetError(104, 'Connection reset by peer')))\n",
      "Backing off get_tweets(...) for 0.8s (twython.exceptions.TwythonError: ('Connection aborted.', ConnectionResetError(104, 'Connection reset by peer')))\n",
      " 39%|███▉      | 429884/1100000 [3:12:25<1:01:55, 180.37it/s]Backing off get_tweets(...) for 0.7s (twython.exceptions.TwythonRateLimitError: Twitter API returned a 429 (Too Many Requests), Rate limit exceeded)\n",
      "Backing off get_tweets(...) for 0.4s (twython.exceptions.TwythonRateLimitError: Twitter API returned a 429 (Too Many Requests), Rate limit exceeded)\n",
      "Backing off get_tweets(...) for 1.5s (twython.exceptions.TwythonRateLimitError: Twitter API returned a 429 (Too Many Requests), Rate limit exceeded)\n",
      "Backing off get_tweets(...) for 7.5s (twython.exceptions.TwythonRateLimitError: Twitter API returned a 429 (Too Many Requests), Rate limit exceeded)\n",
      "Backing off get_tweets(...) for 0.3s (twython.exceptions.TwythonRateLimitError: Twitter API returned a 429 (Too Many Requests), Rate limit exceeded)\n",
      "Backing off get_tweets(...) for 3.6s (twython.exceptions.TwythonRateLimitError: Twitter API returned a 429 (Too Many Requests), Rate limit exceeded)\n"
     ]
    },
    {
     "name": "stderr",
     "output_type": "stream",
     "text": [
      " 39%|███▉      | 429884/1100000 [3:12:40<1:01:55, 180.37it/s]Backing off get_tweets(...) for 44.6s (twython.exceptions.TwythonRateLimitError: Twitter API returned a 429 (Too Many Requests), Rate limit exceeded)\n",
      "Backing off get_tweets(...) for 122.8s (twython.exceptions.TwythonRateLimitError: Twitter API returned a 429 (Too Many Requests), Rate limit exceeded)\n",
      "Backing off get_tweets(...) for 110.0s (twython.exceptions.TwythonRateLimitError: Twitter API returned a 429 (Too Many Requests), Rate limit exceeded)\n",
      "Backing off get_tweets(...) for 60.7s (twython.exceptions.TwythonRateLimitError: Twitter API returned a 429 (Too Many Requests), Rate limit exceeded)\n",
      "Backing off get_tweets(...) for 48.5s (twython.exceptions.TwythonRateLimitError: Twitter API returned a 429 (Too Many Requests), Rate limit exceeded)\n",
      "Backing off get_tweets(...) for 1335.0s (twython.exceptions.TwythonRateLimitError: Twitter API returned a 429 (Too Many Requests), Rate limit exceeded)\n",
      " 43%|████▎     | 472679/1100000 [3:45:29<1:02:50, 166.37it/s]  Backing off get_tweets(...) for 0.1s (twython.exceptions.TwythonRateLimitError: Twitter API returned a 429 (Too Many Requests), Rate limit exceeded)\n",
      "Backing off get_tweets(...) for 1.4s (twython.exceptions.TwythonRateLimitError: Twitter API returned a 429 (Too Many Requests), Rate limit exceeded)\n",
      "Backing off get_tweets(...) for 3.0s (twython.exceptions.TwythonRateLimitError: Twitter API returned a 429 (Too Many Requests), Rate limit exceeded)\n",
      "Backing off get_tweets(...) for 7.5s (twython.exceptions.TwythonRateLimitError: Twitter API returned a 429 (Too Many Requests), Rate limit exceeded)\n",
      " 43%|████▎     | 472679/1100000 [3:45:40<1:02:50, 166.37it/s]Backing off get_tweets(...) for 13.2s (twython.exceptions.TwythonRateLimitError: Twitter API returned a 429 (Too Many Requests), Rate limit exceeded)\n",
      "Backing off get_tweets(...) for 3.8s (twython.exceptions.TwythonRateLimitError: Twitter API returned a 429 (Too Many Requests), Rate limit exceeded)\n",
      "Backing off get_tweets(...) for 49.2s (twython.exceptions.TwythonRateLimitError: Twitter API returned a 429 (Too Many Requests), Rate limit exceeded)\n",
      "Backing off get_tweets(...) for 28.0s (twython.exceptions.TwythonRateLimitError: Twitter API returned a 429 (Too Many Requests), Rate limit exceeded)\n",
      "Backing off get_tweets(...) for 204.4s (twython.exceptions.TwythonRateLimitError: Twitter API returned a 429 (Too Many Requests), Rate limit exceeded)\n",
      "Backing off get_tweets(...) for 423.7s (twython.exceptions.TwythonRateLimitError: Twitter API returned a 429 (Too Many Requests), Rate limit exceeded)\n",
      " 47%|████▋     | 517080/1100000 [4:01:55<55:15, 175.82it/s]   Backing off get_tweets(...) for 0.3s (twython.exceptions.TwythonRateLimitError: Twitter API returned a 429 (Too Many Requests), Rate limit exceeded)\n",
      "Backing off get_tweets(...) for 1.5s (twython.exceptions.TwythonRateLimitError: Twitter API returned a 429 (Too Many Requests), Rate limit exceeded)\n",
      "Backing off get_tweets(...) for 0.6s (twython.exceptions.TwythonRateLimitError: Twitter API returned a 429 (Too Many Requests), Rate limit exceeded)\n",
      "Backing off get_tweets(...) for 5.3s (twython.exceptions.TwythonRateLimitError: Twitter API returned a 429 (Too Many Requests), Rate limit exceeded)\n",
      "Backing off get_tweets(...) for 12.5s (twython.exceptions.TwythonRateLimitError: Twitter API returned a 429 (Too Many Requests), Rate limit exceeded)\n",
      " 47%|████▋     | 517080/1100000 [4:02:10<55:15, 175.82it/s]Backing off get_tweets(...) for 7.9s (twython.exceptions.TwythonRateLimitError: Twitter API returned a 429 (Too Many Requests), Rate limit exceeded)\n",
      "Backing off get_tweets(...) for 35.4s (twython.exceptions.TwythonRateLimitError: Twitter API returned a 429 (Too Many Requests), Rate limit exceeded)\n",
      "Backing off get_tweets(...) for 88.8s (twython.exceptions.TwythonRateLimitError: Twitter API returned a 429 (Too Many Requests), Rate limit exceeded)\n",
      "Backing off get_tweets(...) for 30.3s (twython.exceptions.TwythonRateLimitError: Twitter API returned a 429 (Too Many Requests), Rate limit exceeded)\n",
      "Backing off get_tweets(...) for 0.1s (twython.exceptions.TwythonRateLimitError: Twitter API returned a 429 (Too Many Requests), Rate limit exceeded)\n",
      "Backing off get_tweets(...) for 222.7s (twython.exceptions.TwythonRateLimitError: Twitter API returned a 429 (Too Many Requests), Rate limit exceeded)\n",
      "Backing off get_tweets(...) for 481.1s (twython.exceptions.TwythonError: ('Connection aborted.', ConnectionResetError(104, 'Connection reset by peer')))\n",
      " 51%|█████     | 560353/1100000 [4:20:50<53:52, 166.94it/s]   Backing off get_tweets(...) for 0.3s (twython.exceptions.TwythonRateLimitError: Twitter API returned a 429 (Too Many Requests), Rate limit exceeded)\n",
      "Backing off get_tweets(...) for 1.7s (twython.exceptions.TwythonRateLimitError: Twitter API returned a 429 (Too Many Requests), Rate limit exceeded)\n",
      "Backing off get_tweets(...) for 2.1s (twython.exceptions.TwythonRateLimitError: Twitter API returned a 429 (Too Many Requests), Rate limit exceeded)\n",
      "Backing off get_tweets(...) for 3.0s (twython.exceptions.TwythonRateLimitError: Twitter API returned a 429 (Too Many Requests), Rate limit exceeded)\n",
      "Backing off get_tweets(...) for 15.9s (twython.exceptions.TwythonRateLimitError: Twitter API returned a 429 (Too Many Requests), Rate limit exceeded)\n",
      " 51%|█████     | 560353/1100000 [4:21:00<53:52, 166.94it/s]Backing off get_tweets(...) for 29.8s (twython.exceptions.TwythonRateLimitError: Twitter API returned a 429 (Too Many Requests), Rate limit exceeded)\n",
      "Backing off get_tweets(...) for 12.4s (twython.exceptions.TwythonRateLimitError: Twitter API returned a 429 (Too Many Requests), Rate limit exceeded)\n",
      "Backing off get_tweets(...) for 72.5s (twython.exceptions.TwythonRateLimitError: Twitter API returned a 429 (Too Many Requests), Rate limit exceeded)\n",
      "Backing off get_tweets(...) for 229.8s (twython.exceptions.TwythonRateLimitError: Twitter API returned a 429 (Too Many Requests), Rate limit exceeded)\n",
      "Backing off get_tweets(...) for 462.5s (twython.exceptions.TwythonError: ('Connection aborted.', ConnectionResetError(104, 'Connection reset by peer')))\n",
      " 55%|█████▍    | 602704/1100000 [4:38:48<46:33, 177.99it/s]   Backing off get_tweets(...) for 0.7s (twython.exceptions.TwythonRateLimitError: Twitter API returned a 429 (Too Many Requests), Rate limit exceeded)\n",
      "Backing off get_tweets(...) for 0.8s (twython.exceptions.TwythonRateLimitError: Twitter API returned a 429 (Too Many Requests), Rate limit exceeded)\n",
      "Backing off get_tweets(...) for 3.5s (twython.exceptions.TwythonRateLimitError: Twitter API returned a 429 (Too Many Requests), Rate limit exceeded)\n",
      "Backing off get_tweets(...) for 5.0s (twython.exceptions.TwythonRateLimitError: Twitter API returned a 429 (Too Many Requests), Rate limit exceeded)\n",
      "Backing off get_tweets(...) for 15.4s (twython.exceptions.TwythonRateLimitError: Twitter API returned a 429 (Too Many Requests), Rate limit exceeded)\n",
      " 55%|█████▍    | 602704/1100000 [4:39:01<46:33, 177.99it/s]Backing off get_tweets(...) for 15.3s (twython.exceptions.TwythonRateLimitError: Twitter API returned a 429 (Too Many Requests), Rate limit exceeded)\n",
      "Backing off get_tweets(...) for 43.3s (twython.exceptions.TwythonRateLimitError: Twitter API returned a 429 (Too Many Requests), Rate limit exceeded)\n",
      "Backing off get_tweets(...) for 96.4s (twython.exceptions.TwythonRateLimitError: Twitter API returned a 429 (Too Many Requests), Rate limit exceeded)\n",
      "Backing off get_tweets(...) for 120.3s (twython.exceptions.TwythonRateLimitError: Twitter API returned a 429 (Too Many Requests), Rate limit exceeded)\n",
      "Backing off get_tweets(...) for 421.0s (twython.exceptions.TwythonRateLimitError: Twitter API returned a 429 (Too Many Requests), Rate limit exceeded)\n",
      " 59%|█████▉    | 646688/1100000 [4:54:57<40:30, 186.52it/s]   Backing off get_tweets(...) for 0.1s (twython.exceptions.TwythonRateLimitError: Twitter API returned a 429 (Too Many Requests), Rate limit exceeded)\n",
      "Backing off get_tweets(...) for 2.0s (twython.exceptions.TwythonRateLimitError: Twitter API returned a 429 (Too Many Requests), Rate limit exceeded)\n",
      "Backing off get_tweets(...) for 2.0s (twython.exceptions.TwythonRateLimitError: Twitter API returned a 429 (Too Many Requests), Rate limit exceeded)\n"
     ]
    },
    {
     "name": "stderr",
     "output_type": "stream",
     "text": [
      "Backing off get_tweets(...) for 7.8s (twython.exceptions.TwythonRateLimitError: Twitter API returned a 429 (Too Many Requests), Rate limit exceeded)\n",
      "Backing off get_tweets(...) for 8.0s (twython.exceptions.TwythonRateLimitError: Twitter API returned a 429 (Too Many Requests), Rate limit exceeded)\n",
      " 59%|█████▉    | 646688/1100000 [4:55:11<40:30, 186.52it/s]Backing off get_tweets(...) for 18.5s (twython.exceptions.TwythonRateLimitError: Twitter API returned a 429 (Too Many Requests), Rate limit exceeded)\n",
      "Backing off get_tweets(...) for 37.8s (twython.exceptions.TwythonRateLimitError: Twitter API returned a 429 (Too Many Requests), Rate limit exceeded)\n",
      "Backing off get_tweets(...) for 29.2s (twython.exceptions.TwythonError: ('Connection aborted.', ConnectionResetError(104, 'Connection reset by peer')))\n",
      "Backing off get_tweets(...) for 154.7s (twython.exceptions.TwythonRateLimitError: Twitter API returned a 429 (Too Many Requests), Rate limit exceeded)\n",
      "Backing off get_tweets(...) for 222.5s (twython.exceptions.TwythonRateLimitError: Twitter API returned a 429 (Too Many Requests), Rate limit exceeded)\n",
      "Backing off get_tweets(...) for 681.6s (twython.exceptions.TwythonRateLimitError: Twitter API returned a 429 (Too Many Requests), Rate limit exceeded)\n",
      " 63%|██████▎   | 691688/1100000 [5:18:34<37:34, 181.10it/s]   Backing off get_tweets(...) for 0.4s (twython.exceptions.TwythonRateLimitError: Twitter API returned a 429 (Too Many Requests), Rate limit exceeded)\n",
      "Backing off get_tweets(...) for 1.7s (twython.exceptions.TwythonRateLimitError: Twitter API returned a 429 (Too Many Requests), Rate limit exceeded)\n",
      "Backing off get_tweets(...) for 0.2s (twython.exceptions.TwythonRateLimitError: Twitter API returned a 429 (Too Many Requests), Rate limit exceeded)\n",
      "Backing off get_tweets(...) for 0.1s (twython.exceptions.TwythonRateLimitError: Twitter API returned a 429 (Too Many Requests), Rate limit exceeded)\n",
      "Backing off get_tweets(...) for 4.7s (twython.exceptions.TwythonRateLimitError: Twitter API returned a 429 (Too Many Requests), Rate limit exceeded)\n",
      "Backing off get_tweets(...) for 22.9s (twython.exceptions.TwythonRateLimitError: Twitter API returned a 429 (Too Many Requests), Rate limit exceeded)\n",
      " 63%|██████▎   | 691688/1100000 [5:18:51<37:34, 181.10it/s]Backing off get_tweets(...) for 22.5s (twython.exceptions.TwythonRateLimitError: Twitter API returned a 429 (Too Many Requests), Rate limit exceeded)\n",
      "Backing off get_tweets(...) for 115.7s (twython.exceptions.TwythonRateLimitError: Twitter API returned a 429 (Too Many Requests), Rate limit exceeded)\n",
      "Backing off get_tweets(...) for 230.0s (twython.exceptions.TwythonRateLimitError: Twitter API returned a 429 (Too Many Requests), Rate limit exceeded)\n",
      "Backing off get_tweets(...) for 201.4s (twython.exceptions.TwythonRateLimitError: Twitter API returned a 429 (Too Many Requests), Rate limit exceeded)\n",
      "Backing off get_tweets(...) for 43.0s (twython.exceptions.TwythonRateLimitError: Twitter API returned a 429 (Too Many Requests), Rate limit exceeded)\n",
      "Backing off get_tweets(...) for 1980.2s (twython.exceptions.TwythonRateLimitError: Twitter API returned a 429 (Too Many Requests), Rate limit exceeded)\n",
      " 67%|██████▋   | 733391/1100000 [6:06:29<36:31, 167.30it/s]   Backing off get_tweets(...) for 0.5s (twython.exceptions.TwythonRateLimitError: Twitter API returned a 429 (Too Many Requests), Rate limit exceeded)\n",
      "Backing off get_tweets(...) for 1.4s (twython.exceptions.TwythonRateLimitError: Twitter API returned a 429 (Too Many Requests), Rate limit exceeded)\n",
      "Backing off get_tweets(...) for 0.4s (twython.exceptions.TwythonRateLimitError: Twitter API returned a 429 (Too Many Requests), Rate limit exceeded)\n",
      "Backing off get_tweets(...) for 5.4s (twython.exceptions.TwythonRateLimitError: Twitter API returned a 429 (Too Many Requests), Rate limit exceeded)\n",
      "Backing off get_tweets(...) for 13.5s (twython.exceptions.TwythonRateLimitError: Twitter API returned a 429 (Too Many Requests), Rate limit exceeded)\n",
      " 67%|██████▋   | 733391/1100000 [6:06:41<36:31, 167.30it/s]Backing off get_tweets(...) for 0.4s (twython.exceptions.TwythonRateLimitError: Twitter API returned a 429 (Too Many Requests), Rate limit exceeded)\n",
      "Backing off get_tweets(...) for 35.8s (twython.exceptions.TwythonRateLimitError: Twitter API returned a 429 (Too Many Requests), Rate limit exceeded)\n",
      "Backing off get_tweets(...) for 9.2s (twython.exceptions.TwythonRateLimitError: Twitter API returned a 429 (Too Many Requests), Rate limit exceeded)\n",
      "Backing off get_tweets(...) for 175.7s (twython.exceptions.TwythonRateLimitError: Twitter API returned a 429 (Too Many Requests), Rate limit exceeded)\n",
      "Backing off get_tweets(...) for 166.8s (twython.exceptions.TwythonRateLimitError: Twitter API returned a 429 (Too Many Requests), Rate limit exceeded)\n",
      "Backing off get_tweets(...) for 72.0s (twython.exceptions.TwythonRateLimitError: Twitter API returned a 429 (Too Many Requests), Rate limit exceeded)\n",
      "Backing off get_tweets(...) for 1679.6s (twython.exceptions.TwythonRateLimitError: Twitter API returned a 429 (Too Many Requests), Rate limit exceeded)\n",
      " 71%|███████   | 776280/1100000 [6:46:46<31:11, 172.93it/s]   Backing off get_tweets(...) for 0.8s (twython.exceptions.TwythonRateLimitError: Twitter API returned a 429 (Too Many Requests), Rate limit exceeded)\n",
      "Backing off get_tweets(...) for 0.8s (twython.exceptions.TwythonRateLimitError: Twitter API returned a 429 (Too Many Requests), Rate limit exceeded)\n",
      "Backing off get_tweets(...) for 1.2s (twython.exceptions.TwythonRateLimitError: Twitter API returned a 429 (Too Many Requests), Rate limit exceeded)\n",
      "Backing off get_tweets(...) for 5.8s (twython.exceptions.TwythonRateLimitError: Twitter API returned a 429 (Too Many Requests), Rate limit exceeded)\n",
      "Backing off get_tweets(...) for 7.5s (twython.exceptions.TwythonRateLimitError: Twitter API returned a 429 (Too Many Requests), Rate limit exceeded)\n",
      " 71%|███████   | 776280/1100000 [6:47:01<31:11, 172.93it/s]Backing off get_tweets(...) for 16.7s (twython.exceptions.TwythonRateLimitError: Twitter API returned a 429 (Too Many Requests), Rate limit exceeded)\n",
      "Backing off get_tweets(...) for 5.9s (twython.exceptions.TwythonRateLimitError: Twitter API returned a 429 (Too Many Requests), Rate limit exceeded)\n",
      "Backing off get_tweets(...) for 63.2s (twython.exceptions.TwythonRateLimitError: Twitter API returned a 429 (Too Many Requests), Rate limit exceeded)\n",
      "Backing off get_tweets(...) for 34.4s (twython.exceptions.TwythonRateLimitError: Twitter API returned a 429 (Too Many Requests), Rate limit exceeded)\n",
      "Backing off get_tweets(...) for 364.0s (twython.exceptions.TwythonRateLimitError: Twitter API returned a 429 (Too Many Requests), Rate limit exceeded)\n",
      "Backing off get_tweets(...) for 923.7s (twython.exceptions.TwythonRateLimitError: Twitter API returned a 429 (Too Many Requests), Rate limit exceeded)\n",
      " 75%|███████▍  | 820796/1100000 [7:14:51<27:28, 169.36it/s]   Backing off get_tweets(...) for 0.5s (twython.exceptions.TwythonRateLimitError: Twitter API returned a 429 (Too Many Requests), Rate limit exceeded)\n",
      "Backing off get_tweets(...) for 2.0s (twython.exceptions.TwythonRateLimitError: Twitter API returned a 429 (Too Many Requests), Rate limit exceeded)\n",
      "Backing off get_tweets(...) for 0.2s (twython.exceptions.TwythonRateLimitError: Twitter API returned a 429 (Too Many Requests), Rate limit exceeded)\n",
      "Backing off get_tweets(...) for 5.6s (twython.exceptions.TwythonRateLimitError: Twitter API returned a 429 (Too Many Requests), Rate limit exceeded)\n",
      "Backing off get_tweets(...) for 7.2s (twython.exceptions.TwythonRateLimitError: Twitter API returned a 429 (Too Many Requests), Rate limit exceeded)\n",
      " 75%|███████▍  | 820796/1100000 [7:15:01<27:28, 169.36it/s]Backing off get_tweets(...) for 6.3s (twython.exceptions.TwythonRateLimitError: Twitter API returned a 429 (Too Many Requests), Rate limit exceeded)\n",
      "Backing off get_tweets(...) for 24.3s (twython.exceptions.TwythonRateLimitError: Twitter API returned a 429 (Too Many Requests), Rate limit exceeded)\n",
      "Backing off get_tweets(...) for 71.2s (twython.exceptions.TwythonRateLimitError: Twitter API returned a 429 (Too Many Requests), Rate limit exceeded)\n",
      "Backing off get_tweets(...) for 231.9s (twython.exceptions.TwythonRateLimitError: Twitter API returned a 429 (Too Many Requests), Rate limit exceeded)\n"
     ]
    },
    {
     "name": "stderr",
     "output_type": "stream",
     "text": [
      "Backing off get_tweets(...) for 318.7s (twython.exceptions.TwythonRateLimitError: Twitter API returned a 429 (Too Many Requests), Rate limit exceeded)\n",
      " 79%|███████▊  | 865366/1100000 [7:30:13<22:38, 172.73it/s]   Backing off get_tweets(...) for 0.4s (twython.exceptions.TwythonRateLimitError: Twitter API returned a 429 (Too Many Requests), Rate limit exceeded)\n",
      "Backing off get_tweets(...) for 0.5s (twython.exceptions.TwythonRateLimitError: Twitter API returned a 429 (Too Many Requests), Rate limit exceeded)\n",
      "Backing off get_tweets(...) for 1.4s (twython.exceptions.TwythonRateLimitError: Twitter API returned a 429 (Too Many Requests), Rate limit exceeded)\n",
      "Backing off get_tweets(...) for 4.4s (twython.exceptions.TwythonRateLimitError: Twitter API returned a 429 (Too Many Requests), Rate limit exceeded)\n",
      "Backing off get_tweets(...) for 6.7s (twython.exceptions.TwythonRateLimitError: Twitter API returned a 429 (Too Many Requests), Rate limit exceeded)\n",
      "Backing off get_tweets(...) for 19.0s (twython.exceptions.TwythonRateLimitError: Twitter API returned a 429 (Too Many Requests), Rate limit exceeded)\n",
      " 79%|███████▊  | 865366/1100000 [7:30:31<22:38, 172.73it/s]Backing off get_tweets(...) for 49.4s (twython.exceptions.TwythonRateLimitError: Twitter API returned a 429 (Too Many Requests), Rate limit exceeded)\n",
      "Backing off get_tweets(...) for 84.7s (twython.exceptions.TwythonRateLimitError: Twitter API returned a 429 (Too Many Requests), Rate limit exceeded)\n",
      "Backing off get_tweets(...) for 27.0s (twython.exceptions.TwythonRateLimitError: Twitter API returned a 429 (Too Many Requests), Rate limit exceeded)\n",
      "Backing off get_tweets(...) for 330.4s (twython.exceptions.TwythonRateLimitError: Twitter API returned a 429 (Too Many Requests), Rate limit exceeded)\n",
      "Backing off get_tweets(...) for 938.9s (twython.exceptions.TwythonRateLimitError: Twitter API returned a 429 (Too Many Requests), Rate limit exceeded)\n",
      " 83%|████████▎ | 910304/1100000 [7:58:57<18:06, 174.54it/s]   Backing off get_tweets(...) for 0.5s (twython.exceptions.TwythonRateLimitError: Twitter API returned a 429 (Too Many Requests), Rate limit exceeded)\n",
      "Backing off get_tweets(...) for 0.0s (twython.exceptions.TwythonRateLimitError: Twitter API returned a 429 (Too Many Requests), Rate limit exceeded)\n",
      "Backing off get_tweets(...) for 3.4s (twython.exceptions.TwythonRateLimitError: Twitter API returned a 429 (Too Many Requests), Rate limit exceeded)\n",
      "Backing off get_tweets(...) for 3.3s (twython.exceptions.TwythonRateLimitError: Twitter API returned a 429 (Too Many Requests), Rate limit exceeded)\n",
      "Backing off get_tweets(...) for 1.6s (twython.exceptions.TwythonRateLimitError: Twitter API returned a 429 (Too Many Requests), Rate limit exceeded)\n",
      "Backing off get_tweets(...) for 26.2s (twython.exceptions.TwythonRateLimitError: Twitter API returned a 429 (Too Many Requests), Rate limit exceeded)\n",
      " 83%|████████▎ | 910304/1100000 [7:59:11<18:06, 174.54it/s]Backing off get_tweets(...) for 23.4s (twython.exceptions.TwythonRateLimitError: Twitter API returned a 429 (Too Many Requests), Rate limit exceeded)\n",
      "Backing off get_tweets(...) for 96.0s (twython.exceptions.TwythonRateLimitError: Twitter API returned a 429 (Too Many Requests), Rate limit exceeded)\n",
      "Backing off get_tweets(...) for 82.2s (twython.exceptions.TwythonRateLimitError: Twitter API returned a 429 (Too Many Requests), Rate limit exceeded)\n",
      "Backing off get_tweets(...) for 286.5s (twython.exceptions.TwythonRateLimitError: Twitter API returned a 429 (Too Many Requests), Rate limit exceeded)\n"
     ]
    }
   ],
   "source": [
    "with tqdm(total = max_tweets - crawled_tweets) as pbar:\n",
    "    while True: \n",
    "        tweets = get_tweets('china -filter:retweets', max_id=max_id, tweet_mode='extended')\n",
    "        tweets = tweets[['id', 'created_at', 'full_text']]\n",
    "        tweets.to_csv('tweets/%s.csv' % tweets['id'].max(), index=False)\n",
    "\n",
    "        crawled_tweets += len(tweets)\n",
    "        pbar.update(len(tweets))\n",
    "\n",
    "        if crawled_tweets >= max_tweets: \n",
    "            break\n",
    "\n",
    "        max_id = tweets['id'].min()"
   ]
  },
  {
   "cell_type": "code",
   "execution_count": null,
   "metadata": {
    "ExecuteTime": {
     "start_time": "2022-11-06T05:31:49.277Z"
    }
   },
   "outputs": [],
   "source": [
    "csv_files = [pd.read_csv(f) for f in glob(\"tweets/*.csv\")]"
   ]
  },
  {
   "cell_type": "code",
   "execution_count": null,
   "metadata": {
    "ExecuteTime": {
     "start_time": "2022-11-06T05:31:49.279Z"
    }
   },
   "outputs": [],
   "source": [
    "sum([c.shape[0] for c in csv_files])"
   ]
  }
 ],
 "metadata": {
  "kernelspec": {
   "display_name": "Python 3",
   "language": "python",
   "name": "python3"
  },
  "language_info": {
   "codemirror_mode": {
    "name": "ipython",
    "version": 3
   },
   "file_extension": ".py",
   "mimetype": "text/x-python",
   "name": "python",
   "nbconvert_exporter": "python",
   "pygments_lexer": "ipython3",
   "version": "3.7.9"
  },
  "toc": {
   "base_numbering": 1,
   "nav_menu": {},
   "number_sections": true,
   "sideBar": true,
   "skip_h1_title": false,
   "title_cell": "Table of Contents",
   "title_sidebar": "Contents",
   "toc_cell": false,
   "toc_position": {},
   "toc_section_display": true,
   "toc_window_display": false
  }
 },
 "nbformat": 4,
 "nbformat_minor": 2
}
